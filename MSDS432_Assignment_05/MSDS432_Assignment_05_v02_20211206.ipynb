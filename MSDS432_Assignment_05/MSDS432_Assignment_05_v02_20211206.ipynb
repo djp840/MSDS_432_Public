{
 "cells": [
  {
   "cell_type": "markdown",
   "metadata": {
    "id": "orJYAIqHkn5y"
   },
   "source": [
    "<img src=\"https://github.com/djp840/MSDS_432_Public/blob/main/images/NorthwesternHeader.png?raw=1\">"
   ]
  },
  {
   "cell_type": "markdown",
   "metadata": {},
   "source": [
    "## MSDS432 - Assignment 05 - Exploring Hashing"
   ]
  },
  {
   "cell_type": "code",
   "execution_count": null,
   "metadata": {},
   "outputs": [],
   "source": []
  },
  {
   "cell_type": "markdown",
   "metadata": {},
   "source": [
    "### Import libraries"
   ]
  },
  {
   "cell_type": "code",
   "execution_count": 1,
   "metadata": {},
   "outputs": [],
   "source": [
    "import numpy as np\n",
    "import pandas as pd\n",
    "import matplotlib.pyplot as plt\n",
    "import time\n",
    "import string\n",
    "import random"
   ]
  },
  {
   "cell_type": "markdown",
   "metadata": {},
   "source": [
    "### Mount Google Drive to Colab Environment"
   ]
  },
  {
   "cell_type": "code",
   "execution_count": 1,
   "metadata": {},
   "outputs": [],
   "source": [
    "#from google.colab import drive\n",
    "#drive.mount('/content/gdrive')"
   ]
  },
  {
   "cell_type": "markdown",
   "metadata": {},
   "source": [
    "### Function Linear Search"
   ]
  },
  {
   "cell_type": "markdown",
   "metadata": {},
   "source": [
    "The linear search function below will run through a list, or array,of numbers/strings and pull the index where a select number/string was found, similar to the bimary search function. But a linear search runs through each index beginning with the first index and searching until it finds the select number. For example, given a list of sorted numbers 1 through 100, it will first search 1, then 2, then 3, then so on until it finds the select number. Thus, if the number being search for is 100, it will take 100 steps to find the number, whereas the binary search will only take 7 steps."
   ]
  },
  {
   "cell_type": "code",
   "execution_count": 2,
   "metadata": {},
   "outputs": [],
   "source": [
    "def linear_search(list, item):\n",
    "    low = 0\n",
    "    high = len(list) - 1\n",
    "    \n",
    "    while low <= high:\n",
    "        guess = list[low]\n",
    "        if guess == item:\n",
    "            return low\n",
    "        low = low + 1\n",
    "        \n",
    "    return None"
   ]
  },
  {
   "cell_type": "markdown",
   "metadata": {},
   "source": [
    "### Function Binary Search "
   ]
  },
  {
   "cell_type": "markdown",
   "metadata": {},
   "source": [
    "The binary search function below will run through a list, or array, of numbers/strings and pull the index where a select number/string was found. If not found, it will return none. This is an incredibly powerful algorithm. For example, given a list of sorted numbers 1 through 100, the algorithm will begin its search for the select number at the middploint, position 50. If the number at position 50 is higher than the select number, all positions 50 and above have now been eliminated. If the number at position 50 is lower than the select number, all position 50 and below have now been eliminated. Every time, you guess the middle number and eliminate half the remaining numbers. Thus, if the number being searched for is 100, it will take only 7 steps to find the number."
   ]
  },
  {
   "cell_type": "code",
   "execution_count": 3,
   "metadata": {},
   "outputs": [],
   "source": [
    "def binary_search(list, item):\n",
    "  # low and high keep track of which part of the list you'll search in.\n",
    "  low = 0\n",
    "  high = len(list) - 1\n",
    "\n",
    "  # While you haven't narrowed it down to one element ...\n",
    "  while low <= high:\n",
    "    # ... check the middle element\n",
    "    mid = (low + high) // 2\n",
    "    guess = list[mid]\n",
    "    # Found the item.\n",
    "    if guess == item:\n",
    "      return mid\n",
    "    # The guess was too high.\n",
    "    if guess > item:\n",
    "      high = mid - 1\n",
    "    # The guess was too low.\n",
    "    else:\n",
    "      low = mid + 1\n",
    "\n",
    "  # Item doesn't exist\n",
    "  return None"
   ]
  },
  {
   "cell_type": "markdown",
   "metadata": {},
   "source": [
    "To create a list of 100 random names, assign random letters to a list and join them to create one single string. Do so until the list for names is filled with 100 random names."
   ]
  },
  {
   "cell_type": "code",
   "execution_count": 4,
   "metadata": {},
   "outputs": [],
   "source": [
    "names = []\n",
    "for i in range(100):\n",
    "    names_temp = []\n",
    "    for j in range(10):\n",
    "        names_temp.append(random.choice(string.ascii_lowercase))\n",
    "    names.append(''.join(names_temp))"
   ]
  },
  {
   "cell_type": "markdown",
   "metadata": {},
   "source": [
    "Select 5 names at random from the list of names to be used in simple search and dictionary search. "
   ]
  },
  {
   "cell_type": "code",
   "execution_count": 5,
   "metadata": {},
   "outputs": [],
   "source": [
    "names_search = random.sample(names, 5)"
   ]
  },
  {
   "cell_type": "markdown",
   "metadata": {},
   "source": [
    "### Linear Search"
   ]
  },
  {
   "cell_type": "markdown",
   "metadata": {},
   "source": [
    "Search the five names in the list of names using linear search. Record the execution time in milliseconds for each name search and add up the amount of time. Repeat this 1000 times and take the average execution time"
   ]
  },
  {
   "cell_type": "code",
   "execution_count": 6,
   "metadata": {},
   "outputs": [],
   "source": [
    "linear_search_times = []\n",
    "\n",
    "for i in range(1000):\n",
    "    linear_search_time = 0\n",
    "    for j in range(len(names_search)):\n",
    "        start = time.clock()\n",
    "        linear_search(names, names_search[j])\n",
    "        end = time.clock()\n",
    "        linear_search_time += ((end - start) * 1000)\n",
    "    linear_search_times.append(linear_search_time)\n",
    "    \n",
    "linear_search_time = np.mean(linear_search_times)"
   ]
  },
  {
   "cell_type": "markdown",
   "metadata": {},
   "source": [
    "A dictionary in python is used as a hash table. It is simple and very efficient in searching for items such as names in a dictionary. The function below will searcht the dictionary and return the value corresponding to the name in the dictionary."
   ]
  },
  {
   "cell_type": "code",
   "execution_count": 7,
   "metadata": {},
   "outputs": [],
   "source": [
    "def dict_search(dictionary, item):\n",
    "    for items in item:\n",
    "        return dictionary[items]"
   ]
  },
  {
   "cell_type": "markdown",
   "metadata": {},
   "source": [
    "First store the list of names in a dictionary. Each name will have a random value assigned to it in the dicitonary. Next, search for the five names in the dictionary and return the execution time in milliseconds. Repeat this 1000 times and take the average execution time."
   ]
  },
  {
   "cell_type": "code",
   "execution_count": 8,
   "metadata": {},
   "outputs": [],
   "source": [
    "names_dict = {k: v for v, k in enumerate(names)}\n",
    "dict_times = []\n",
    "\n",
    "for i in range(1000):\n",
    "    start = time.clock()\n",
    "    dict_search(names_dict, names_search)\n",
    "    end = time.clock()\n",
    "    dict_times.append((end - start) * 1000)\n",
    "\n",
    "dict_search_time = np.mean(dict_times)"
   ]
  },
  {
   "cell_type": "markdown",
   "metadata": {},
   "source": [
    "### Plot Execution Times"
   ]
  },
  {
   "cell_type": "markdown",
   "metadata": {},
   "source": [
    "Plot the execution time in milliseconds for the search of the five random names using linear search and dictionary search. As seen below, the dictionary search was much quicker than the linear search. Linear search has a Big O notation of O(n), which means that it will begin its search at the first index, then the second, and so on until it finds the value being searched for. So if the name is in the 50th index, it will take 50 steps to find the name. However, the dictionary knows exactly where the name is and will return its value almost immediately since it doesn't have to search through the dictionary for the name. It just simply knows where it is."
   ]
  },
  {
   "cell_type": "code",
   "execution_count": 9,
   "metadata": {},
   "outputs": [
    {
     "data": {
      "image/png": "[encoded data removed]",
      "text/plain": [
       "<Figure size 1152x432 with 1 Axes>"
      ]
     },
     "metadata": {
      "needs_background": "light"
     },
     "output_type": "display_data"
    }
   ],
   "source": [
    "method = ['Linear Search', 'Dictionary Search']\n",
    "times = [linear_search_time, dict_search_time]\n",
    "\n",
    "y_pos = np.arange(len(method))\n",
    "plt.figure(figsize=(16, 6))\n",
    "plt.bar(y_pos, times)\n",
    "plt.xticks(y_pos, method)\n",
    "plt.xlabel('Method')\n",
    "plt.ylabel('Execution Time (In Milliseconds)')\n",
    "plt.show()"
   ]
  },
  {
   "cell_type": "markdown",
   "metadata": {},
   "source": [
    "### Simple Sort Function"
   ]
  },
  {
   "cell_type": "markdown",
   "metadata": {},
   "source": [
    "The simple sort algorithm sorts the list of numbers/strings by beginning with the first inde and searching for a smaller number/string following it. If one exists, the two indexes are swapped so now the smaller number/string is in the first index. This smaller number/string is now compared to the following numbers/strings to see if a smaller number/string exists. If so, then swap positions again so the smaller number/string is in the first index. Continue to do so until the entire length of the list has been checked. Now the smallest number/string has been found. Next, begin with the second index and compare to the following numbers/strings to see if a smaller number/string exists. If so, then swap positions and continue the search to see if a smaller number/string exists. Do so until the entire length of the list has been searched. Now the second smallest number/string has been found and in the second index. Continue this process until the last index has been compared with the last index. The list will now be sorted."
   ]
  },
  {
   "cell_type": "code",
   "execution_count": 10,
   "metadata": {},
   "outputs": [],
   "source": [
    "def simpleSort(arr):\n",
    "    for i in range(len(arr)):\n",
    "        for j in range(i+1, len(arr)):\n",
    "            if arr[i] > arr[j]:\n",
    "                arr[i], arr[j] = arr[j], arr[i]\n",
    "                \n",
    "    return arr"
   ]
  },
  {
   "cell_type": "markdown",
   "metadata": {},
   "source": [
    "The simple sort method is used to sort the list because it is efficient for small lists. If the list contained thousands of names, then a more sophisticated sorting method such as selection sort would have been used. However, as mentioned since the list is small, simple sort will suffice and will run quickly."
   ]
  },
  {
   "cell_type": "code",
   "execution_count": 11,
   "metadata": {},
   "outputs": [],
   "source": [
    "names_sorted = simpleSort(names)"
   ]
  },
  {
   "cell_type": "markdown",
   "metadata": {},
   "source": [
    "### Grab the names at the 10th, 30th, 50th, 70th, 90th, and 100th position to be searched "
   ]
  },
  {
   "cell_type": "code",
   "execution_count": 12,
   "metadata": {},
   "outputs": [],
   "source": [
    "temp_names = [names_sorted[9]\n",
    "              ,names_sorted[29]\n",
    "              ,names_sorted[49]\n",
    "              ,names_sorted[69]\n",
    "              ,names_sorted[89]\n",
    "              ,names_sorted[99]]"
   ]
  },
  {
   "cell_type": "markdown",
   "metadata": {},
   "source": [
    "Search the names at these positions using linear search. Record the execution time in milliseconds for each name search and add up the amount of time. Repeat this 1000 times and take the average execution time. "
   ]
  },
  {
   "cell_type": "code",
   "execution_count": 13,
   "metadata": {},
   "outputs": [],
   "source": [
    "linear_search_times2 = []\n",
    "\n",
    "for i in range(10):\n",
    "    linear_search_time = 0\n",
    "    for j in range(len(temp_names)):\n",
    "        start = time.clock()\n",
    "        linear_search(names_sorted, temp_names[j])\n",
    "        end = time.clock()\n",
    "        linear_search_time += ((end - start) * 1000)\n",
    "    linear_search_times2.append(linear_search_time)\n",
    "\n",
    "linear_search_time2 = np.mean(linear_search_times2)"
   ]
  },
  {
   "cell_type": "markdown",
   "metadata": {},
   "source": [
    "Search the names at these positions using binary search. Record the execution time in milliseconds for each name search and add up the amount of time. Repeat this 1000 times and take the average execution time. "
   ]
  },
  {
   "cell_type": "code",
   "execution_count": 14,
   "metadata": {},
   "outputs": [],
   "source": [
    "binary_search_times = []\n",
    "\n",
    "for i in range(10):\n",
    "    binary_search_time = 0\n",
    "    for j in range(len(temp_names)):\n",
    "        start = time.clock()\n",
    "        binary_search(names_sorted, temp_names[j])\n",
    "        end = time.clock()\n",
    "        binary_search_time += ((end - start) * 1000)\n",
    "    binary_search_times.append(binary_search_time)\n",
    "\n",
    "binary_search_time = np.mean(binary_search_times)"
   ]
  },
  {
   "cell_type": "markdown",
   "metadata": {},
   "source": [
    "Search for the names at these positions in the dictionary and return the execution time in milliseconds. Repeat this 1000 times and take the average execution time. "
   ]
  },
  {
   "cell_type": "code",
   "execution_count": 15,
   "metadata": {},
   "outputs": [],
   "source": [
    "for i in range(1000):\n",
    "    start = time.clock()\n",
    "    dict_search(names_dict, temp_names)\n",
    "    end = time.clock()\n",
    "    dict_times.append((end - start) * 1000)\n",
    "\n",
    "dict_search_time = np.mean(dict_times)"
   ]
  },
  {
   "cell_type": "markdown",
   "metadata": {},
   "source": [
    "Plot the execution time in milliseconds for the search of the names at the specfified positions using linear search, binary search, and dictionary search. As seen below, the dictionary search was much quicker than the linear search and binary search. This is not surprising since as mentioned with the comparison above between dictionary and linear search, the dictionary search knows exactly where the name is and does not need to search through the dictionary. Thus, it has a Big O notation of O(1). Thus, if quick retrieval is important, it would be advised to store data in a dictionary since it has almost immediate retreival times. "
   ]
  },
  {
   "cell_type": "markdown",
   "metadata": {},
   "source": [
    "### Plot Linear Search, Dictionary Search, Binary Search Results"
   ]
  },
  {
   "cell_type": "code",
   "execution_count": 16,
   "metadata": {},
   "outputs": [
    {
     "data": {
      "image/png": "[encoded data removed]",
      "text/plain": [
       "<Figure size 1152x432 with 1 Axes>"
      ]
     },
     "metadata": {
      "needs_background": "light"
     },
     "output_type": "display_data"
    }
   ],
   "source": [
    "method = ['Linear Search', 'Dictionary Search', 'Binary Search']\n",
    "times = [linear_search_time2, dict_search_time, binary_search_time]\n",
    "plt.figure(figsize=(16, 6))\n",
    "y_pos = np.arange(len(method))\n",
    "plt.bar(y_pos, times)\n",
    "plt.xticks(y_pos, method)\n",
    "plt.xlabel('Method')\n",
    "plt.ylabel('Execution Time (In Milliseconds)')\n",
    "plt.show()"
   ]
  },
  {
   "cell_type": "code",
   "execution_count": null,
   "metadata": {},
   "outputs": [],
   "source": []
  }
 ],
 "metadata": {
  "accelerator": "GPU",
  "colab": {
   "collapsed_sections": [
    "BhUDwni8kn5_",
    "gMfy7Wqakn6M"
   ],
   "machine_shape": "hm",
   "name": "MSDS458_Assignment_01_20210619_DEV_v19_.ipynb",
   "provenance": []
  },
  "kernelspec": {
   "display_name": "Python 3",
   "language": "python",
   "name": "python3"
  },
  "language_info": {
   "codemirror_mode": {
    "name": "ipython",
    "version": 3
   },
   "file_extension": ".py",
   "mimetype": "text/x-python",
   "name": "python",
   "nbconvert_exporter": "python",
   "pygments_lexer": "ipython3",
   "version": "3.6.9"
  },
  "toc": {
   "base_numbering": 1,
   "nav_menu": {},
   "number_sections": false,
   "sideBar": true,
   "skip_h1_title": false,
   "title_cell": "Table of Contents",
   "title_sidebar": "Contents",
   "toc_cell": false,
   "toc_position": {},
   "toc_section_display": true,
   "toc_window_display": false
  }
 },
 "nbformat": 4,
 "nbformat_minor": 1
}
