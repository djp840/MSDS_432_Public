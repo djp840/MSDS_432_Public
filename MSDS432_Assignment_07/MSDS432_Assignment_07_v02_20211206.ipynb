{
 "cells": [
  {
   "cell_type": "markdown",
   "metadata": {
    "id": "orJYAIqHkn5y"
   },
   "source": [
    "<img src=\"https://github.com/djp840/MSDS_432_Public/blob/main/images/NorthwesternHeader.png?raw=1\">"
   ]
  },
  {
   "cell_type": "markdown",
   "metadata": {},
   "source": [
    "## MSDS432 - Assignment 07 - Implement Dijkstra's Algorithm"
   ]
  },
  {
   "cell_type": "markdown",
   "metadata": {},
   "source": [
    "### Import Packages"
   ]
  },
  {
   "cell_type": "code",
   "execution_count": null,
   "metadata": {},
   "outputs": [],
   "source": [
    "import networkx  as nx \n",
    "import matplotlib.pyplot as plt\n",
    "G = nx.Graph()\n",
    "%matplotlib inline"
   ]
  },
  {
   "cell_type": "markdown",
   "metadata": {},
   "source": [
    "<div class=\"alert alert-block alert-info\">\n",
    "    <b>Networkx is used to depict the graphs</b><br> \n",
    "    https://networkx.github.io/\n",
    "    </div>"
   ]
  },
  {
   "cell_type": "markdown",
   "metadata": {},
   "source": [
    "### Mount Google Drive to Colab Environment"
   ]
  },
  {
   "cell_type": "code",
   "execution_count": null,
   "metadata": {},
   "outputs": [],
   "source": [
    "#from google.colab import drive\n",
    "#drive.mount('/content/gdrive')"
   ]
  },
  {
   "cell_type": "markdown",
   "metadata": {},
   "source": [
    "### Create Graph"
   ]
  },
  {
   "cell_type": "code",
   "execution_count": null,
   "metadata": {},
   "outputs": [],
   "source": [
    "trip = nx.Graph()\n",
    "# Add nodes\n",
    "G.add_nodes_from(['NYC', 'DC', 'Atlanta', 'New Orleans', 'Dallas',\n",
    "          'Indianapolis', 'Kansas City', 'Denver', 'Pittsburg', \n",
    "          'Cincinnati', 'St Louis', 'Oklahoma City' 'Salt Lake City',\n",
    "          'Albuquerque', 'Phoenix', 'Las Vegas', 'San Diego', 'Los Angeles'])"
   ]
  },
  {
   "cell_type": "markdown",
   "metadata": {},
   "source": [
    "### Add Edges with Weights (distance in hours)"
   ]
  },
  {
   "cell_type": "code",
   "execution_count": null,
   "metadata": {},
   "outputs": [],
   "source": [
    "trip.add_edge('NYC', 'DC', weight=2)\n",
    "trip.add_edge('DC', 'Atlanta', weight=2)\n",
    "trip.add_edge('Atlanta', 'New Orleans', weight=2)\n",
    "trip.add_edge('New Orleans', 'Dallas', weight=2)\n",
    "trip.add_edge('Dallas', 'Alburquerque', weight=2)\n",
    "trip.add_edge('Alburquerque', 'Phoenix', weight=2)\n",
    "trip.add_edge('NYC', 'Indianapolis', weight=11)\n",
    "trip.add_edge('Indianapolis', 'Kansas City', weight=8)\n",
    "trip.add_edge('Kansas City', 'Denver', weight=7)\n",
    "trip.add_edge('Denver', 'Salt Lake City', weight=6)\n",
    "trip.add_edge('Salt Lake City', 'Las Vegas', weight=9)\n",
    "trip.add_edge('NYC', 'Pittsburg', weight=7)\n",
    "trip.add_edge('Pittsburg', 'Cincinnati', weight=6)\n",
    "trip.add_edge('Cincinnati', 'St Louis', weight=8)\n",
    "trip.add_edge('St Louis', 'Oklahoma City', weight=7)\n",
    "trip.add_edge('Oklahoma City', 'Alburquerque', weight=9)\n",
    "trip.add_edge('Phoenix', 'San Diego', weight=5)\n",
    "trip.add_edge('Phoenix', 'Las Vegas', weight=2)\n",
    "trip.add_edge('Las Vegas', 'San Diego', weight=2)\n",
    "trip.add_edge('Las Vegas', 'Los Angeles', weight=5)\n",
    "trip.add_edge('San Diego', 'Los Angeles', weight=2)"
   ]
  },
  {
   "cell_type": "markdown",
   "metadata": {},
   "source": [
    "### Show Visual of Graph"
   ]
  },
  {
   "cell_type": "code",
   "execution_count": null,
   "metadata": {},
   "outputs": [],
   "source": [
    "nx.draw(trip, with_labels=True)"
   ]
  },
  {
   "cell_type": "markdown",
   "metadata": {},
   "source": [
    "### Define Starting Location and Destination"
   ]
  },
  {
   "cell_type": "code",
   "execution_count": null,
   "metadata": {},
   "outputs": [],
   "source": [
    "source = 'NYC'\n",
    "dest = 'Los Angeles'"
   ]
  },
  {
   "cell_type": "markdown",
   "metadata": {},
   "source": [
    "### Track Total Distance Traveled"
   ]
  },
  {
   "cell_type": "code",
   "execution_count": null,
   "metadata": {},
   "outputs": [],
   "source": [
    "bfs_length = 0\n",
    "\n",
    "# Iterate through breadth-first search \n",
    "for route_start, route_stop in list(nx.bfs_edges(trip, source)):\n",
    "    length = trip.get_edge_data(route_start, route_stop)['weight']\n",
    "    bfs_length += length\n",
    "    print('{0} -> {1} : \\t{2} hours'.format(route_start, \n",
    "                                            route_stop, length))"
   ]
  },
  {
   "cell_type": "code",
   "execution_count": null,
   "metadata": {},
   "outputs": [],
   "source": [
    "print('BFS trip length', bfs_length)"
   ]
  },
  {
   "cell_type": "markdown",
   "metadata": {},
   "source": [
    "### Tree constructed from a Breadth-First Search Starting at Source\n",
    "Unfortunately, to get to LA, the BFS needs to visit all nodes in the graph"
   ]
  },
  {
   "cell_type": "code",
   "execution_count": null,
   "metadata": {
    "scrolled": true
   },
   "outputs": [],
   "source": [
    "nx.draw(nx.bfs_tree(trip, source), with_labels=True)"
   ]
  },
  {
   "cell_type": "markdown",
   "metadata": {},
   "source": [
    "### Dijkstra's Algorithm "
   ]
  },
  {
   "cell_type": "markdown",
   "metadata": {},
   "source": [
    "Then use Dijkstra's algorithm to find the most optimal route to get to L.A from NYC, capture the time that it will take to get to L.A (use the weights in the algorithm assigned to the routes)"
   ]
  },
  {
   "cell_type": "code",
   "execution_count": null,
   "metadata": {},
   "outputs": [],
   "source": [
    "d_length = nx.dijkstra_path_length(trip, source, dest)\n",
    "print('Dijkstra\\'s trip length: ', d_length)"
   ]
  },
  {
   "cell_type": "code",
   "execution_count": null,
   "metadata": {},
   "outputs": [],
   "source": [
    "ideal_route = nx.dijkstra_path(trip, source, dest)\n",
    "ideal_route"
   ]
  },
  {
   "cell_type": "markdown",
   "metadata": {},
   "source": [
    "### Show Visual of Sub-Graph"
   ]
  },
  {
   "cell_type": "code",
   "execution_count": null,
   "metadata": {},
   "outputs": [],
   "source": [
    "nx.draw(trip.subgraph(ideal_route), with_labels=True)"
   ]
  },
  {
   "cell_type": "markdown",
   "metadata": {},
   "source": [
    "### Plot Trip Lengths"
   ]
  },
  {
   "cell_type": "code",
   "execution_count": null,
   "metadata": {},
   "outputs": [],
   "source": [
    "plt.figure(figsize=(16, 6))\n",
    "plt.bar([1,2], [bfs_length, d_length], width=0.5, \n",
    "        tick_label=['BFS', 'Dijkstra\\'s'])\n",
    "plt.ylabel('Trip length (hours)')\n",
    "plt.title('Comparison of trip length from NYC to LA using different algorithms')"
   ]
  }
 ],
 "metadata": {
  "accelerator": "GPU",
  "colab": {
   "collapsed_sections": [
    "BhUDwni8kn5_",
    "gMfy7Wqakn6M"
   ],
   "machine_shape": "hm",
   "name": "MSDS458_Assignment_01_20210619_DEV_v19_.ipynb",
   "provenance": []
  },
  "kernelspec": {
   "display_name": "Python 3",
   "language": "python",
   "name": "python3"
  },
  "language_info": {
   "codemirror_mode": {
    "name": "ipython",
    "version": 3
   },
   "file_extension": ".py",
   "mimetype": "text/x-python",
   "name": "python",
   "nbconvert_exporter": "python",
   "pygments_lexer": "ipython3",
   "version": "3.6.9"
  },
  "toc": {
   "base_numbering": 1,
   "nav_menu": {},
   "number_sections": false,
   "sideBar": true,
   "skip_h1_title": false,
   "title_cell": "Table of Contents",
   "title_sidebar": "Contents",
   "toc_cell": false,
   "toc_position": {},
   "toc_section_display": true,
   "toc_window_display": false
  }
 },
 "nbformat": 4,
 "nbformat_minor": 1
}
