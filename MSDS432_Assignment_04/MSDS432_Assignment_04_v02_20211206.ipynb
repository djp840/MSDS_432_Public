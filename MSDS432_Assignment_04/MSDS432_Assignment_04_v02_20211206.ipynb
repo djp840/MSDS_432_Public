{
 "cells": [
  {
   "cell_type": "markdown",
   "metadata": {
    "id": "orJYAIqHkn5y"
   },
   "source": [
    "<img src=\"https://github.com/djp840/MSDS_432_Public/blob/main/images/NorthwesternHeader.png?raw=1\">"
   ]
  },
  {
   "cell_type": "markdown",
   "metadata": {},
   "source": [
    "## MSDS432 - Assignment 04 - Implement a Quicksort Algorithm"
   ]
  },
  {
   "cell_type": "markdown",
   "metadata": {},
   "source": [
    "### Import Packages"
   ]
  },
  {
   "cell_type": "code",
   "execution_count": null,
   "metadata": {},
   "outputs": [],
   "source": [
    "import numpy as np\n",
    "import pandas as pd\n",
    "import datetime\n",
    "import random\n",
    "from matplotlib import pyplot as plt\n",
    "%matplotlib inline\n",
    "VERBOSE = False\n",
    "SEED = 213\n",
    "random.seed = SEED"
   ]
  },
  {
   "cell_type": "markdown",
   "metadata": {},
   "source": [
    "### Mount Google Drive to Colab Environment"
   ]
  },
  {
   "cell_type": "code",
   "execution_count": null,
   "metadata": {},
   "outputs": [],
   "source": [
    "#from google.colab import drive\n",
    "#drive.mount('/content/gdrive')"
   ]
  },
  {
   "cell_type": "markdown",
   "metadata": {},
   "source": [
    "### Base Code from book"
   ]
  },
  {
   "cell_type": "code",
   "execution_count": null,
   "metadata": {},
   "outputs": [],
   "source": [
    "def quick_sort(array):\n",
    "  if len(array) < 2:\n",
    "    # base case, arrays with 0 or 1 element are already \"sorted\"\n",
    "    return array\n",
    "  else:\n",
    "    # recursive case\n",
    "    pivot = array[0]\n",
    "    # sub-array of all the elements less than the pivot\n",
    "    less = [i for i in array[1:] if i <= pivot]\n",
    "    # sub-array of all the elements greater than the pivot\n",
    "    greater = [i for i in array[1:] if i > pivot]\n",
    "    return quick_sort(less) + [pivot] + quick_sort(greater)"
   ]
  },
  {
   "cell_type": "markdown",
   "metadata": {},
   "source": [
    "### Create Test Array, Sort Copy of List, Assert Quick Sort"
   ]
  },
  {
   "cell_type": "code",
   "execution_count": null,
   "metadata": {},
   "outputs": [],
   "source": [
    "# test_list = get_random_list(10)\n",
    "# sorted_list = test_list.copy()\n",
    "# sorted_list.sort()\n",
    "# assert quick_sort(test_list) == sorted_list,\"List not properly sorted\""
   ]
  },
  {
   "cell_type": "markdown",
   "metadata": {},
   "source": [
    "### Merge Sort"
   ]
  },
  {
   "cell_type": "code",
   "execution_count": null,
   "metadata": {},
   "outputs": [],
   "source": [
    "def merge_sort(mylist):\n",
    "    if(VERBOSE):\n",
    "        print('Splitting ', mylist)\n",
    "    if len(mylist)>1:\n",
    "        #find midpoint\n",
    "        mid= len(mylist)//2\n",
    "        l_half = mylist[:mid]\n",
    "        r_half = mylist[mid:]\n",
    "        #recursively split until only list only contains 1 element\n",
    "        merge_sort(l_half)\n",
    "        merge_sort(r_half)\n",
    "        \n",
    "        #Detect which side is smaller, iterating over the list\n",
    "        i=0\n",
    "        j=0\n",
    "        k=0\n",
    "        while i < len(l_half) and j < len(r_half):\n",
    "            if l_half[i] < r_half[j]:\n",
    "                mylist[k] = l_half[i]\n",
    "                i += 1\n",
    "            else:\n",
    "                mylist[k]=r_half[j]\n",
    "                j += 1\n",
    "            k+=1\n",
    "        \n",
    "        while i < len(l_half):\n",
    "            mylist[k]=l_half[i]\n",
    "            i+=1\n",
    "            k+=1\n",
    "            \n",
    "        while j < len(r_half):\n",
    "            mylist[k] = r_half[j]\n",
    "            j+=1\n",
    "            k+=1\n",
    "    \n",
    "    if(VERBOSE):\n",
    "        print('Merging', mylist)\n",
    "    return mylist"
   ]
  },
  {
   "cell_type": "markdown",
   "metadata": {},
   "source": [
    "### Bubble Sort"
   ]
  },
  {
   "cell_type": "code",
   "execution_count": null,
   "metadata": {},
   "outputs": [],
   "source": [
    "def bubble_sort(xlist):\n",
    "    n = len(xlist)\n",
    "    \n",
    "    #Traverse array\n",
    "    for i in range(n):\n",
    "        # Last i elements are already in place\n",
    "        for j in range(0, n-i-1):\n",
    "            #Traverse array from 0 to n-i-1\n",
    "            #Swap if element found is greater than next element\n",
    "            if xlist[j] > xlist[j+1]:\n",
    "                xlist[j], xlist[j+1] = xlist[j+1], xlist[j]\n",
    "    return xlist"
   ]
  },
  {
   "cell_type": "markdown",
   "metadata": {},
   "source": [
    "### Insertion Sort"
   ]
  },
  {
   "cell_type": "code",
   "execution_count": null,
   "metadata": {},
   "outputs": [],
   "source": [
    "def insertion_sort(xlist):\n",
    "    # Traverse list\n",
    "    for i in range(1, len(xlist)):\n",
    "        key = xlist[i]\n",
    "        # Move elements of array[0..i-1] that are greater than key,\n",
    "        # one position ahead of their current place\n",
    "        j = i-1\n",
    "        while j >= 0 and key < xlist[j]:\n",
    "            xlist[j+1] = xlist[j]\n",
    "            j-=1\n",
    "        xlist[j+1] = key\n",
    "    return xlist"
   ]
  },
  {
   "cell_type": "markdown",
   "metadata": {},
   "source": [
    "### Create A List of United States"
   ]
  },
  {
   "cell_type": "code",
   "execution_count": null,
   "metadata": {},
   "outputs": [],
   "source": [
    "states = ['AL', 'AK', 'AZ', 'AR', 'CA', 'CO', 'CT', 'DE', 'FL', 'GA',\n",
    "         'HI', 'ID', 'IL', 'IN', 'IA', 'KS', 'KY', 'LA', 'ME', 'MD', \n",
    "         'MA', 'MI', 'MN', 'MS', 'MO', 'MT', 'NE', 'NV', 'NH', 'NJ', \n",
    "         'NM', 'NY', 'NC', 'ND', 'OH', 'OK', 'OR', 'PA', 'RI', 'SC', \n",
    "         'SD', 'TN', 'TX', 'UT', 'VT', 'VA', 'WA', 'WV', 'WI', 'WY']"
   ]
  },
  {
   "cell_type": "markdown",
   "metadata": {},
   "source": [
    "### Function to Generate Random Name, Based on Input Length"
   ]
  },
  {
   "cell_type": "code",
   "execution_count": null,
   "metadata": {},
   "outputs": [],
   "source": [
    "def generate_name(name_length):\n",
    "    letters = 'abcdefghijklmnopqrstuvwxyz'\n",
    "    name = ''\n",
    "    for i in range(name_length):\n",
    "        name += random.choice(letters)\n",
    "    return name\n",
    "# Generate first and last name for a person in every state\n",
    "people = []\n",
    "for state in states:\n",
    "    people.append({'first_name': generate_name(10),\n",
    "                  'last_name': generate_name(10),\n",
    "                  'state': state})"
   ]
  },
  {
   "cell_type": "markdown",
   "metadata": {},
   "source": [
    "### Create Dataframe with Names and States"
   ]
  },
  {
   "cell_type": "code",
   "execution_count": null,
   "metadata": {},
   "outputs": [],
   "source": [
    "people_df = pd.DataFrame(data=people)"
   ]
  },
  {
   "cell_type": "code",
   "execution_count": null,
   "metadata": {},
   "outputs": [],
   "source": [
    "people_df.head(10)"
   ]
  },
  {
   "cell_type": "markdown",
   "metadata": {},
   "source": [
    "### Shuffle Dataframe"
   ]
  },
  {
   "cell_type": "code",
   "execution_count": null,
   "metadata": {},
   "outputs": [],
   "source": [
    "people_df = people_df.sample(frac=1)\n",
    "# Create copies of shuffled df for each sorting algorithm\n",
    "dataframe_array = []\n",
    "for i in range(4):\n",
    "    dataframe_array.append(people_df.copy())"
   ]
  },
  {
   "cell_type": "markdown",
   "metadata": {},
   "source": [
    "### Quicksort, Merge Sort, Bubble Sort, Insertion Sort  "
   ]
  },
  {
   "cell_type": "code",
   "execution_count": null,
   "metadata": {},
   "outputs": [],
   "source": [
    "quicksort_times = []\n",
    "mergesort_times = []\n",
    "bubblesort_times = []\n",
    "insertionsort_times = []\n",
    "\n",
    "# Quicksort\n",
    "for col in people_df.columns:\n",
    "    start_time = datetime.datetime.now()\n",
    "    quick_sort(dataframe_array[0][col])\n",
    "    quicksort_times.append((datetime.datetime.now() - start_time).\n",
    "                 total_seconds() * 1000)\n",
    "# Merge sort\n",
    "#     start_time = datetime.datetime.now()\n",
    "#     merge_sort(dataframe_array[0][col])\n",
    "#     mergesort_times.append((datetime.datetime.now() - start_time).\n",
    "#                  total_seconds() * 1000)\n",
    "\n",
    "# Bubble sort\n",
    "    start_time = datetime.datetime.now()\n",
    "    bubble_sort(dataframe_array[1][col])\n",
    "    bubblesort_times.append((datetime.datetime.now() - start_time).\n",
    "                 total_seconds() * 1000)\n",
    "\n",
    "# Insertion sort\n",
    "    start_time = datetime.datetime.now()\n",
    "    insertion_sort(dataframe_array[2][col])\n",
    "    insertionsort_times.append((datetime.datetime.now() - start_time).\n",
    "                 total_seconds() * 1000)"
   ]
  },
  {
   "cell_type": "markdown",
   "metadata": {},
   "source": [
    "### Create Dataframe with Sort Times"
   ]
  },
  {
   "cell_type": "code",
   "execution_count": null,
   "metadata": {},
   "outputs": [],
   "source": [
    "sort_df = {'quick sort' : quicksort_times,\n",
    "           'bubble sort' : bubblesort_times,\n",
    "           #'merge sort': mergesort_times,\n",
    "           'insertion sort' : insertionsort_times}\n",
    "sort_df = pd.DataFrame(data=sort_df)\n",
    "sort_df"
   ]
  },
  {
   "cell_type": "markdown",
   "metadata": {},
   "source": [
    "### Graph Results"
   ]
  },
  {
   "cell_type": "code",
   "execution_count": null,
   "metadata": {},
   "outputs": [],
   "source": [
    "plt.figure(figsize=(16, 6))\n",
    "plt.bar(sort_df.index, sort_df['bubble sort'], 0.35)\n",
    "plt.bar(sort_df.index, sort_df['insertion sort'], 0.35)\n",
    "plt.bar(sort_df.index, sort_df['quick sort'], 0.35)\n",
    "plt.legend(('bubble sort', 'insertion sort', 'quick sort'))\n",
    "plt.ylabel('Execution time (ms)')\n",
    "plt.xlabel('Column: First Name, Last Name, State')\n",
    "plt.title('Search times by different sorting algorithms');"
   ]
  }
 ],
 "metadata": {
  "accelerator": "GPU",
  "colab": {
   "collapsed_sections": [
    "BhUDwni8kn5_",
    "gMfy7Wqakn6M"
   ],
   "machine_shape": "hm",
   "name": "MSDS458_Assignment_01_20210619_DEV_v19_.ipynb",
   "provenance": []
  },
  "kernelspec": {
   "display_name": "Python 3",
   "language": "python",
   "name": "python3"
  },
  "language_info": {
   "codemirror_mode": {
    "name": "ipython",
    "version": 3
   },
   "file_extension": ".py",
   "mimetype": "text/x-python",
   "name": "python",
   "nbconvert_exporter": "python",
   "pygments_lexer": "ipython3",
   "version": "3.6.9"
  },
  "toc": {
   "base_numbering": 1,
   "nav_menu": {},
   "number_sections": false,
   "sideBar": true,
   "skip_h1_title": false,
   "title_cell": "Table of Contents",
   "title_sidebar": "Contents",
   "toc_cell": false,
   "toc_position": {},
   "toc_section_display": true,
   "toc_window_display": false
  }
 },
 "nbformat": 4,
 "nbformat_minor": 1
}
