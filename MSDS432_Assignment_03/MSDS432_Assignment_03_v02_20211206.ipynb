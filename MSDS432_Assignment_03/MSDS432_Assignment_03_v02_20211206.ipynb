{
 "cells": [
  {
   "cell_type": "markdown",
   "metadata": {
    "id": "orJYAIqHkn5y"
   },
   "source": [
    "<img src=\"https://github.com/djp840/MSDS_432_Public/blob/main/images/NorthwesternHeader.png?raw=1\">"
   ]
  },
  {
   "cell_type": "markdown",
   "metadata": {},
   "source": [
    "## MSDS432 - Assignment 03 - Implement a Recursive Algorithm"
   ]
  },
  {
   "cell_type": "code",
   "execution_count": null,
   "metadata": {},
   "outputs": [],
   "source": []
  },
  {
   "cell_type": "markdown",
   "metadata": {},
   "source": [
    "### Import libraries"
   ]
  },
  {
   "cell_type": "code",
   "execution_count": 1,
   "metadata": {},
   "outputs": [],
   "source": [
    "import numpy as np\n",
    "import pandas as pd\n",
    "import random\n",
    "import matplotlib.pyplot as plt\n",
    "import time\n",
    "import math\n",
    "from decimal import Decimal\n",
    "\n",
    "random.seed(123)"
   ]
  },
  {
   "cell_type": "markdown",
   "metadata": {},
   "source": [
    "### Mount Google Drive to Colab Environment"
   ]
  },
  {
   "cell_type": "code",
   "execution_count": 1,
   "metadata": {},
   "outputs": [],
   "source": [
    "#from google.colab import drive\n",
    "#drive.mount('/content/gdrive')"
   ]
  },
  {
   "cell_type": "markdown",
   "metadata": {},
   "source": [
    "### Begin with the base code for factorial recursion"
   ]
  },
  {
   "cell_type": "code",
   "execution_count": 2,
   "metadata": {},
   "outputs": [],
   "source": [
    "def rec_fact(x):\n",
    "  if x == 1:\n",
    "    return 1\n",
    "  else:\n",
    "    return x * rec_fact(x-1)"
   ]
  },
  {
   "cell_type": "markdown",
   "metadata": {},
   "source": [
    "### Factorial using loop"
   ]
  },
  {
   "cell_type": "code",
   "execution_count": 3,
   "metadata": {},
   "outputs": [],
   "source": [
    "def for_fact(x):\n",
    "    temp = 1\n",
    "    for x in range(1, x + 1):\n",
    "        temp = temp * x\n",
    "    return temp"
   ]
  },
  {
   "cell_type": "markdown",
   "metadata": {},
   "source": [
    "### Create an array with ten numbers ranging in value from 100-500"
   ]
  },
  {
   "cell_type": "code",
   "execution_count": 4,
   "metadata": {},
   "outputs": [],
   "source": [
    "array = random.sample(range(100, 501), 10)\n",
    "array.sort()"
   ]
  },
  {
   "cell_type": "markdown",
   "metadata": {},
   "source": [
    "### Execute the recursion and simple for loop for the random number array,\n",
    "Recording the execution time with each execution."
   ]
  },
  {
   "cell_type": "code",
   "execution_count": 5,
   "metadata": {},
   "outputs": [],
   "source": [
    "times_for_loop = []\n",
    "for i in range(len(array)):\n",
    "    start = time.clock()\n",
    "    for_fact(array[i])\n",
    "    end = time.clock()\n",
    "    times_for_loop.append((end - start) * 1000)\n",
    "    \n",
    "times_recursion = []\n",
    "for i in range(len(array)):\n",
    "    start = time.clock()\n",
    "    rec_fact(array[i])\n",
    "    end = time.clock()\n",
    "    times_recursion.append((end - start) * 1000)"
   ]
  },
  {
   "cell_type": "markdown",
   "metadata": {},
   "source": [
    "### Store factorials into a list"
   ]
  },
  {
   "cell_type": "code",
   "execution_count": 6,
   "metadata": {},
   "outputs": [],
   "source": [
    "factorial = []\n",
    "for i in range(len(array)):\n",
    "    factorial.append(\"{:.10e}\".format(Decimal(for_fact(array[i]))))    "
   ]
  },
  {
   "cell_type": "markdown",
   "metadata": {},
   "source": [
    "### Calculate difference in time between Recursion and For Loop"
   ]
  },
  {
   "cell_type": "code",
   "execution_count": 7,
   "metadata": {},
   "outputs": [],
   "source": [
    "times_diff = np.array(times_recursion) - np.array(times_for_loop)"
   ]
  },
  {
   "cell_type": "markdown",
   "metadata": {},
   "source": [
    "### Create dataframe with times for Recursion, \n",
    "For Loop and Difference of time as well as factorial"
   ]
  },
  {
   "cell_type": "code",
   "execution_count": 8,
   "metadata": {},
   "outputs": [],
   "source": [
    "df = pd.DataFrame(list(zip(array, times_recursion, times_for_loop, times_diff, factorial)),\n",
    "              columns=['Numbers', 'Recursion Time', 'For Loop Time', 'Difference in Time', 'Factorial'])\n"
   ]
  },
  {
   "cell_type": "code",
   "execution_count": 9,
   "metadata": {},
   "outputs": [
    {
     "data": {
      "text/html": [
       "<div>\n",
       "<style scoped>\n",
       "    .dataframe tbody tr th:only-of-type {\n",
       "        vertical-align: middle;\n",
       "    }\n",
       "\n",
       "    .dataframe tbody tr th {\n",
       "        vertical-align: top;\n",
       "    }\n",
       "\n",
       "    .dataframe thead th {\n",
       "        text-align: right;\n",
       "    }\n",
       "</style>\n",
       "<table border=\"1\" class=\"dataframe\">\n",
       "  <thead>\n",
       "    <tr style=\"text-align: right;\">\n",
       "      <th></th>\n",
       "      <th>Numbers</th>\n",
       "      <th>Recursion Time</th>\n",
       "      <th>For Loop Time</th>\n",
       "      <th>Difference in Time</th>\n",
       "      <th>Factorial</th>\n",
       "    </tr>\n",
       "  </thead>\n",
       "  <tbody>\n",
       "    <tr>\n",
       "      <th>0</th>\n",
       "      <td>119</td>\n",
       "      <td>0.176</td>\n",
       "      <td>0.056</td>\n",
       "      <td>0.120</td>\n",
       "      <td>5.5745857612e+196</td>\n",
       "    </tr>\n",
       "    <tr>\n",
       "      <th>1</th>\n",
       "      <td>126</td>\n",
       "      <td>0.099</td>\n",
       "      <td>0.043</td>\n",
       "      <td>0.056</td>\n",
       "      <td>2.3721732429e+211</td>\n",
       "    </tr>\n",
       "    <tr>\n",
       "      <th>2</th>\n",
       "      <td>144</td>\n",
       "      <td>0.170</td>\n",
       "      <td>0.049</td>\n",
       "      <td>0.121</td>\n",
       "      <td>5.5502938327e+249</td>\n",
       "    </tr>\n",
       "    <tr>\n",
       "      <th>3</th>\n",
       "      <td>155</td>\n",
       "      <td>0.084</td>\n",
       "      <td>0.051</td>\n",
       "      <td>0.033</td>\n",
       "      <td>4.7891429015e+273</td>\n",
       "    </tr>\n",
       "    <tr>\n",
       "      <th>4</th>\n",
       "      <td>236</td>\n",
       "      <td>0.192</td>\n",
       "      <td>0.086</td>\n",
       "      <td>0.106</td>\n",
       "      <td>1.2572865218e+459</td>\n",
       "    </tr>\n",
       "    <tr>\n",
       "      <th>5</th>\n",
       "      <td>237</td>\n",
       "      <td>0.123</td>\n",
       "      <td>0.085</td>\n",
       "      <td>0.038</td>\n",
       "      <td>2.9797690567e+461</td>\n",
       "    </tr>\n",
       "    <tr>\n",
       "      <th>6</th>\n",
       "      <td>294</td>\n",
       "      <td>0.340</td>\n",
       "      <td>0.118</td>\n",
       "      <td>0.222</td>\n",
       "      <td>4.4149334380e+599</td>\n",
       "    </tr>\n",
       "    <tr>\n",
       "      <th>7</th>\n",
       "      <td>308</td>\n",
       "      <td>0.208</td>\n",
       "      <td>0.122</td>\n",
       "      <td>0.086</td>\n",
       "      <td>2.2615336402e+634</td>\n",
       "    </tr>\n",
       "    <tr>\n",
       "      <th>8</th>\n",
       "      <td>374</td>\n",
       "      <td>0.283</td>\n",
       "      <td>0.161</td>\n",
       "      <td>0.122</td>\n",
       "      <td>3.2618613316e+801</td>\n",
       "    </tr>\n",
       "    <tr>\n",
       "      <th>9</th>\n",
       "      <td>493</td>\n",
       "      <td>0.527</td>\n",
       "      <td>0.254</td>\n",
       "      <td>0.273</td>\n",
       "      <td>1.6290650610e+1115</td>\n",
       "    </tr>\n",
       "  </tbody>\n",
       "</table>\n",
       "</div>"
      ],
      "text/plain": [
       "   Numbers  Recursion Time  For Loop Time  Difference in Time  \\\n",
       "0      119           0.176          0.056               0.120   \n",
       "1      126           0.099          0.043               0.056   \n",
       "2      144           0.170          0.049               0.121   \n",
       "3      155           0.084          0.051               0.033   \n",
       "4      236           0.192          0.086               0.106   \n",
       "5      237           0.123          0.085               0.038   \n",
       "6      294           0.340          0.118               0.222   \n",
       "7      308           0.208          0.122               0.086   \n",
       "8      374           0.283          0.161               0.122   \n",
       "9      493           0.527          0.254               0.273   \n",
       "\n",
       "            Factorial  \n",
       "0   5.5745857612e+196  \n",
       "1   2.3721732429e+211  \n",
       "2   5.5502938327e+249  \n",
       "3   4.7891429015e+273  \n",
       "4   1.2572865218e+459  \n",
       "5   2.9797690567e+461  \n",
       "6   4.4149334380e+599  \n",
       "7   2.2615336402e+634  \n",
       "8   3.2618613316e+801  \n",
       "9  1.6290650610e+1115  "
      ]
     },
     "execution_count": 9,
     "metadata": {},
     "output_type": "execute_result"
    }
   ],
   "source": [
    "df.round(3)"
   ]
  },
  {
   "cell_type": "markdown",
   "metadata": {},
   "source": [
    "### Plot Execution Times"
   ]
  },
  {
   "cell_type": "code",
   "execution_count": 10,
   "metadata": {},
   "outputs": [
    {
     "data": {
      "image/png": "[encoded data removed]",
      "text/plain": [
       "<Figure size 1152x432 with 1 Axes>"
      ]
     },
     "metadata": {
      "needs_background": "light"
     },
     "output_type": "display_data"
    }
   ],
   "source": [
    "plt.figure(figsize=(16, 6))\n",
    "ax = plt.gca()\n",
    "df.plot(x='Numbers',y='For Loop Time',ax=ax)\n",
    "df.plot(x='Numbers',y='Recursion Time', ax=ax)\n",
    "plt.xlabel('Numbers')\n",
    "plt.ylabel('Execution Time (Milliseconds)')\n",
    "plt.show()"
   ]
  }
 ],
 "metadata": {
  "accelerator": "GPU",
  "colab": {
   "collapsed_sections": [
    "BhUDwni8kn5_",
    "gMfy7Wqakn6M"
   ],
   "machine_shape": "hm",
   "name": "MSDS458_Assignment_01_20210619_DEV_v19_.ipynb",
   "provenance": []
  },
  "kernelspec": {
   "display_name": "Python 3",
   "language": "python",
   "name": "python3"
  },
  "language_info": {
   "codemirror_mode": {
    "name": "ipython",
    "version": 3
   },
   "file_extension": ".py",
   "mimetype": "text/x-python",
   "name": "python",
   "nbconvert_exporter": "python",
   "pygments_lexer": "ipython3",
   "version": "3.6.9"
  },
  "toc": {
   "base_numbering": 1,
   "nav_menu": {},
   "number_sections": false,
   "sideBar": true,
   "skip_h1_title": false,
   "title_cell": "Table of Contents",
   "title_sidebar": "Contents",
   "toc_cell": false,
   "toc_position": {},
   "toc_section_display": true,
   "toc_window_display": false
  }
 },
 "nbformat": 4,
 "nbformat_minor": 1
}
