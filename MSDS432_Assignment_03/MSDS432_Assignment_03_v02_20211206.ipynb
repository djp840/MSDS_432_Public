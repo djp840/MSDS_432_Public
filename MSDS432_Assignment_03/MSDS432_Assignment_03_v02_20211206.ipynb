{
 "cells": [
  {
   "cell_type": "markdown",
   "metadata": {
    "id": "orJYAIqHkn5y"
   },
   "source": [
    "<img src=\"https://github.com/djp840/MSDS_432_Public/blob/main/images/NorthwesternHeader.png?raw=1\">"
   ]
  },
  {
   "cell_type": "markdown",
   "metadata": {},
   "source": [
    "## MSDS432 - Assignment 03 - Implement a Recursive Algorithm"
   ]
  },
  {
   "cell_type": "markdown",
   "metadata": {},
   "source": [
    "### Import libraries"
   ]
  },
  {
   "cell_type": "code",
   "execution_count": null,
   "metadata": {},
   "outputs": [],
   "source": [
    "import numpy as np\n",
    "import pandas as pd\n",
    "import random\n",
    "import matplotlib.pyplot as plt\n",
    "import time\n",
    "import math\n",
    "from decimal import Decimal\n",
    "\n",
    "random.seed(123)"
   ]
  },
  {
   "cell_type": "markdown",
   "metadata": {},
   "source": [
    "### Mount Google Drive to Colab Environment"
   ]
  },
  {
   "cell_type": "code",
   "execution_count": null,
   "metadata": {},
   "outputs": [],
   "source": [
    "#from google.colab import drive\n",
    "#drive.mount('/content/gdrive')"
   ]
  },
  {
   "cell_type": "markdown",
   "metadata": {},
   "source": [
    "### Begin with the base code for factorial recursion"
   ]
  },
  {
   "cell_type": "code",
   "execution_count": null,
   "metadata": {},
   "outputs": [],
   "source": [
    "def rec_fact(x):\n",
    "  if x == 1:\n",
    "    return 1\n",
    "  else:\n",
    "    return x * rec_fact(x-1)"
   ]
  },
  {
   "cell_type": "markdown",
   "metadata": {},
   "source": [
    "### Factorial using loop"
   ]
  },
  {
   "cell_type": "code",
   "execution_count": null,
   "metadata": {},
   "outputs": [],
   "source": [
    "def for_fact(x):\n",
    "    temp = 1\n",
    "    for x in range(1, x + 1):\n",
    "        temp = temp * x\n",
    "    return temp"
   ]
  },
  {
   "cell_type": "markdown",
   "metadata": {},
   "source": [
    "### Create an array with ten numbers ranging in value from 100-500"
   ]
  },
  {
   "cell_type": "code",
   "execution_count": null,
   "metadata": {},
   "outputs": [],
   "source": [
    "array = random.sample(range(100, 501), 10)\n",
    "array.sort()"
   ]
  },
  {
   "cell_type": "markdown",
   "metadata": {},
   "source": [
    "### Execute the recursion and simple for loop for the random number array,\n",
    "Recording the execution time with each execution."
   ]
  },
  {
   "cell_type": "code",
   "execution_count": null,
   "metadata": {},
   "outputs": [],
   "source": [
    "times_for_loop = []\n",
    "for i in range(len(array)):\n",
    "    start = time.clock()\n",
    "    for_fact(array[i])\n",
    "    end = time.clock()\n",
    "    times_for_loop.append((end - start) * 1000)\n",
    "    \n",
    "times_recursion = []\n",
    "for i in range(len(array)):\n",
    "    start = time.clock()\n",
    "    rec_fact(array[i])\n",
    "    end = time.clock()\n",
    "    times_recursion.append((end - start) * 1000)"
   ]
  },
  {
   "cell_type": "markdown",
   "metadata": {},
   "source": [
    "### Store factorials into a list"
   ]
  },
  {
   "cell_type": "code",
   "execution_count": null,
   "metadata": {},
   "outputs": [],
   "source": [
    "factorial = []\n",
    "for i in range(len(array)):\n",
    "    factorial.append(\"{:.10e}\".format(Decimal(for_fact(array[i]))))    "
   ]
  },
  {
   "cell_type": "markdown",
   "metadata": {},
   "source": [
    "### Calculate difference in time between Recursion and For Loop"
   ]
  },
  {
   "cell_type": "code",
   "execution_count": null,
   "metadata": {},
   "outputs": [],
   "source": [
    "times_diff = np.array(times_recursion) - np.array(times_for_loop)"
   ]
  },
  {
   "cell_type": "markdown",
   "metadata": {},
   "source": [
    "### Create dataframe with times for Recursion, \n",
    "For Loop and Difference of time as well as factorial"
   ]
  },
  {
   "cell_type": "code",
   "execution_count": null,
   "metadata": {},
   "outputs": [],
   "source": [
    "df = pd.DataFrame(list(zip(array, times_recursion, times_for_loop, times_diff, factorial)),\n",
    "              columns=['Numbers', 'Recursion Time', 'For Loop Time', 'Difference in Time', 'Factorial'])\n"
   ]
  },
  {
   "cell_type": "code",
   "execution_count": null,
   "metadata": {},
   "outputs": [],
   "source": [
    "df.round(3)"
   ]
  },
  {
   "cell_type": "markdown",
   "metadata": {},
   "source": [
    "### Plot Execution Times"
   ]
  },
  {
   "cell_type": "code",
   "execution_count": null,
   "metadata": {},
   "outputs": [],
   "source": [
    "plt.figure(figsize=(16, 6))\n",
    "ax = plt.gca()\n",
    "df.plot(x='Numbers',y='For Loop Time',ax=ax)\n",
    "df.plot(x='Numbers',y='Recursion Time', ax=ax)\n",
    "plt.xlabel('Numbers')\n",
    "plt.ylabel('Execution Time (Milliseconds)')\n",
    "plt.show()"
   ]
  }
 ],
 "metadata": {
  "accelerator": "GPU",
  "colab": {
   "collapsed_sections": [
    "BhUDwni8kn5_",
    "gMfy7Wqakn6M"
   ],
   "machine_shape": "hm",
   "name": "MSDS458_Assignment_01_20210619_DEV_v19_.ipynb",
   "provenance": []
  },
  "kernelspec": {
   "display_name": "Python 3",
   "language": "python",
   "name": "python3"
  },
  "language_info": {
   "codemirror_mode": {
    "name": "ipython",
    "version": 3
   },
   "file_extension": ".py",
   "mimetype": "text/x-python",
   "name": "python",
   "nbconvert_exporter": "python",
   "pygments_lexer": "ipython3",
   "version": "3.6.9"
  },
  "toc": {
   "base_numbering": 1,
   "nav_menu": {},
   "number_sections": false,
   "sideBar": true,
   "skip_h1_title": false,
   "title_cell": "Table of Contents",
   "title_sidebar": "Contents",
   "toc_cell": false,
   "toc_position": {},
   "toc_section_display": true,
   "toc_window_display": false
  }
 },
 "nbformat": 4,
 "nbformat_minor": 1
}
