{
 "cells": [
  {
   "cell_type": "markdown",
   "metadata": {
    "id": "orJYAIqHkn5y"
   },
   "source": [
    "<img src=\"https://github.com/djp840/MSDS_432_Public/blob/main/images/NorthwesternHeader.png?raw=1\">"
   ]
  },
  {
   "cell_type": "markdown",
   "metadata": {},
   "source": [
    "## MSDS432 - Assignment 09 - Implement Dynamic Programming"
   ]
  },
  {
   "cell_type": "markdown",
   "metadata": {},
   "source": [
    "### Mount Google Drive to Colab Environment"
   ]
  },
  {
   "cell_type": "code",
   "execution_count": null,
   "metadata": {},
   "outputs": [],
   "source": [
    "#from google.colab import drive\n",
    "#drive.mount('/content/gdrive')"
   ]
  },
  {
   "cell_type": "markdown",
   "metadata": {},
   "source": [
    "Once you understand the dynamic programming concept, then go to this site: https://www.sanfoundry.com/dynamic-programming-problems-solutions/ (Links to an external site.)Links to an external site.\n",
    "\n",
    "Scroll down, and you will see several dynamic programming examples and their implementation in C/C++.\n",
    "\n",
    "Choose one of the algorithms of your liking and implement it in Python"
   ]
  },
  {
   "cell_type": "markdown",
   "metadata": {},
   "source": [
    "### Cow Treats Problem\n",
    "FJ has purchased N (1 <= N <= 2000) yummy treats for the cows who get money for giving vast amounts of milk. FJ sells one treat per day and wants to maximize the money he receives over a given period time. The treats are interesting for many reasons: The treats are numbered 1..N and stored sequentially in single file in a long box that is open at both ends. On any day, FJ can retrieve one treat from either end of his stash of treats. Like fine wines and delicious cheeses, the treats improve with age and command greater prices. The treats are not uniform: some are better and have higher intrinsic value. Treat i has value v(i) (1 <= v(i) <= 1000). Cows pay more for treats that have aged longer: a cow will pay v(i)*a for a treat of age a. Given the values v(i) of each of the treats lined up in order of the index i in their box, what is the greatest value FJ can receive for them if he orders their sale optimally? The first treat is sold on day 1 and has age a=1. Each subsequent day increases the age by 1."
   ]
  },
  {
   "cell_type": "markdown",
   "metadata": {},
   "source": [
    "### Solution\n",
    "In this problem, the value of treats becomes as high as its age. So, our approach will be to select treats of lower values in earlier days and preserve the treats of high values for later to fetch greater values. The matrix dp calculates the result of the result of subproblems to avoid recomputation."
   ]
  },
  {
   "cell_type": "markdown",
   "metadata": {},
   "source": [
    "### Expected Input and Output \n",
    "Number of treats=5 <br>\n",
    "Values of treats=1 3 1 5 2<br>\n",
    "The maximum revenue that can be obtained by selling the treats is= 43"
   ]
  },
  {
   "cell_type": "markdown",
   "metadata": {},
   "source": [
    "### C++ Solution"
   ]
  },
  {
   "cell_type": "code",
   "execution_count": null,
   "metadata": {},
   "outputs": [],
   "source": [
    "# #include<bits/stdc++.h>\n",
    "# using namespace std;\n",
    " \n",
    "# typedef vector<int> vi;\n",
    "# typedef vector<vi> vvi;\n",
    " \n",
    " \n",
    "# int calc(vvi &dp,vi &a,int i, int j, int k)\n",
    "# {\n",
    "#     if(i>j)\n",
    "#         return 0;\n",
    " \n",
    "#     if(dp[i][j]!=-1)\n",
    "#         return dp[i][j];\n",
    " \n",
    "#     //now, calculate\n",
    "#     return dp[i][j]=max(calc(dp,a,i+1,j,k+1)+a[i]*k,calc(dp,a,i,j-1,k+1)+a[j]*k);\n",
    " \n",
    "# }\n",
    " \n",
    "# int main()\n",
    "# {\n",
    "#     int n,i;\n",
    "#     cout<<\"Enter the number of treats \";\n",
    "#     cin>>n;\n",
    "#     vector<int> a(n);\n",
    " \n",
    "#     cout<<\"Enter the values of treats \"<<endl;\n",
    "#     for(i=0;i<n;i++)\n",
    "#         cin>>a[i];\n",
    " \n",
    "#     vector<vector<int> > dp(n,vector<int>(n,-1));\n",
    "#     cout<<\"The maximum revenue that can be obtained by selling the treats is \"<<endl;\n",
    "#     cout<<calc(dp,a,0,n-1,1)<<endl;\n",
    " \n",
    "#     return 0;\n",
    "# }"
   ]
  },
  {
   "cell_type": "markdown",
   "metadata": {},
   "source": [
    "### C++ Runtime Test Case"
   ]
  },
  {
   "cell_type": "code",
   "execution_count": null,
   "metadata": {},
   "outputs": [],
   "source": [
    "# Case-1:\n",
    "# $ g++ treats.cpp\n",
    "# $ ./a.out\n",
    "# Enter the number of treats 5\n",
    "# Enter the values of treats \n",
    "# 1 3 1 5 2\n",
    "# The maximum revenue that can be obtained by selling the treats is \n",
    "# 43"
   ]
  },
  {
   "cell_type": "markdown",
   "metadata": {},
   "source": [
    "### Python Implementation"
   ]
  },
  {
   "cell_type": "code",
   "execution_count": null,
   "metadata": {},
   "outputs": [],
   "source": [
    "def calc_cow_treats(val_treats):\n",
    "    total_value = 0\n",
    "    for age in range(1, len(val_treats)+1):\n",
    "        \n",
    "        #pick lesser of val_treats[0] or val_treats[-1]\n",
    "        if val_treats[0] > val_treats[-1]:\n",
    "            total_value += age * val_treats.pop(-1)\n",
    "        else:\n",
    "            total_value += age * val_treats.pop(0)\n",
    "        \n",
    "        #print(val_treats)\n",
    "        #print(total_value)\n",
    "    return(total_value)"
   ]
  },
  {
   "cell_type": "markdown",
   "metadata": {},
   "source": [
    "### Python Runtime Test Case"
   ]
  },
  {
   "cell_type": "code",
   "execution_count": null,
   "metadata": {},
   "outputs": [],
   "source": [
    "treat_values = [1, 3, 1, 5, 2]\n",
    "calc_cow_treats(treat_values)"
   ]
  },
  {
   "cell_type": "markdown",
   "metadata": {},
   "source": [
    "### Throws error if known values don't return 43"
   ]
  },
  {
   "cell_type": "code",
   "execution_count": null,
   "metadata": {},
   "outputs": [],
   "source": [
    "assert(calc_cow_treats([1,3,1,5,2]) == 43)"
   ]
  },
  {
   "cell_type": "markdown",
   "metadata": {},
   "source": [
    "### Executive Summary"
   ]
  },
  {
   "cell_type": "markdown",
   "metadata": {},
   "source": [
    "Using dynamic programming, this problem can be solved using a single for loop, meaning that the compute time scales with the length of the array. $$O(n)$$\n",
    "If one treat must be sold every day, the maximum age of a treat is equal to the number of treats in the list. Each iteration (or day), a treat from one end of the array is selected, whichever is smaller. Then it is multiplied by number of days it has aged. As a result, the highest value treat will be aged the longest. \n",
    "Other methods of calculating the max age might require the calculation of every possible order the treats might be sold in, which would be about $$O(n!)$$"
   ]
  }
 ],
 "metadata": {
  "accelerator": "GPU",
  "colab": {
   "collapsed_sections": [
    "BhUDwni8kn5_",
    "gMfy7Wqakn6M"
   ],
   "machine_shape": "hm",
   "name": "MSDS458_Assignment_01_20210619_DEV_v19_.ipynb",
   "provenance": []
  },
  "kernelspec": {
   "display_name": "Python 3",
   "language": "python",
   "name": "python3"
  },
  "language_info": {
   "codemirror_mode": {
    "name": "ipython",
    "version": 3
   },
   "file_extension": ".py",
   "mimetype": "text/x-python",
   "name": "python",
   "nbconvert_exporter": "python",
   "pygments_lexer": "ipython3",
   "version": "3.6.9"
  },
  "toc": {
   "base_numbering": 1,
   "nav_menu": {},
   "number_sections": false,
   "sideBar": true,
   "skip_h1_title": false,
   "title_cell": "Table of Contents",
   "title_sidebar": "Contents",
   "toc_cell": false,
   "toc_position": {},
   "toc_section_display": true,
   "toc_window_display": false
  }
 },
 "nbformat": 4,
 "nbformat_minor": 1
}
