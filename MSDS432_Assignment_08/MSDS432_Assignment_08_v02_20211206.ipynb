{
 "cells": [
  {
   "cell_type": "markdown",
   "metadata": {
    "id": "orJYAIqHkn5y"
   },
   "source": [
    "<img src=\"https://github.com/djp840/MSDS_432_Public/blob/main/images/NorthwesternHeader.png?raw=1\">"
   ]
  },
  {
   "cell_type": "markdown",
   "metadata": {},
   "source": [
    "## MSDS432 - Assignment 08 - Implement a Greedy Algorithm"
   ]
  },
  {
   "cell_type": "markdown",
   "metadata": {},
   "source": [
    "Let's assume, you run a small security company that provides physical security services in the area.\n",
    "You recently won a new contract in the area to provide 24x7 security to a small under construction building (for simplicity we will design the solution for only 24 hours, but if you want to go above and beyond, feel free to write code that handles the 24x7 scenario as well)\n",
    "You have 6 security guards available at the moment who you can assign to this building but your goal is to make more money out of this contract and spend less in wages (hence greedy!)"
   ]
  },
  {
   "cell_type": "markdown",
   "metadata": {},
   "source": [
    "People working less than or equal to 8 hours will be paid $15/hr.\n",
    "\n",
    "Anyone working overtime (>8 hours) will be paid an additional 5, i.e. 20/hr"
   ]
  },
  {
   "cell_type": "markdown",
   "metadata": {},
   "source": [
    "### Mount Google Drive to Colab Environment"
   ]
  },
  {
   "cell_type": "code",
   "execution_count": 1,
   "metadata": {},
   "outputs": [],
   "source": [
    "#from google.colab import drive\n",
    "#drive.mount('/content/gdrive')"
   ]
  },
  {
   "cell_type": "markdown",
   "metadata": {},
   "source": [
    "### Function Calculate Guard Pay"
   ]
  },
  {
   "cell_type": "code",
   "execution_count": 1,
   "metadata": {},
   "outputs": [],
   "source": [
    "def calc_guard_pay(hours_worked):\n",
    "    if hours_worked > 8:\n",
    "        return hours_worked * 20\n",
    "    else:\n",
    "        return hours_worked * 15"
   ]
  },
  {
   "cell_type": "markdown",
   "metadata": {},
   "source": [
    "### Simple Solution"
   ]
  },
  {
   "cell_type": "code",
   "execution_count": 2,
   "metadata": {},
   "outputs": [
    {
     "name": "stdout",
     "output_type": "stream",
     "text": [
      "Guards \t Shift Length \t Cost\n",
      "1 \t 24.0 \t\t 480.0\n",
      "2 \t 12.0 \t\t 480.0\n",
      "3 \t 8.0 \t\t 360.0\n",
      "4 \t 6.0 \t\t 360.0\n",
      "5 \t 4.8 \t\t 360.0\n",
      "6 \t 4.0 \t\t 360.0\n"
     ]
    }
   ],
   "source": [
    "num_guards = 6\n",
    "hours_in_day = 24\n",
    "\n",
    "print('Guards \\t Shift Length \\t Cost')\n",
    "\n",
    "for quantity in range(1, num_guards + 1):\n",
    "    shift_times = hours_in_day/quantity\n",
    "    print('{0} \\t {1} \\t\\t {2}'.format(quantity, shift_times, \n",
    "                                    calc_guard_pay(shift_times) * quantity))"
   ]
  },
  {
   "cell_type": "markdown",
   "metadata": {},
   "source": [
    "### Greedy Algorithm"
   ]
  },
  {
   "cell_type": "markdown",
   "metadata": {},
   "source": [
    "Write a greedy algorithm, run it, record the solution that your algorithm produces and then share your findings, also explain whether the solution provided by the greedy algorithm is indeed the best or could there be any alternative/better solution to your problem?"
   ]
  },
  {
   "cell_type": "markdown",
   "metadata": {},
   "source": [
    "### Schedule one guard for up to eight hours every time"
   ]
  },
  {
   "cell_type": "code",
   "execution_count": 3,
   "metadata": {},
   "outputs": [
    {
     "name": "stdout",
     "output_type": "stream",
     "text": [
      "Guards on duty:  3\n",
      "Total cost:  360\n"
     ]
    }
   ],
   "source": [
    "hours_staffed = 0\n",
    "hours_in_day = 24\n",
    "guards_on_duty = 0\n",
    "total_cost = 0\n",
    "while hours_staffed < hours_in_day:\n",
    "    guards_on_duty += 1\n",
    "    hours_staffed += 8\n",
    "    total_cost += calc_guard_pay(8)\n",
    "print('Guards on duty: ', guards_on_duty)\n",
    "print('Total cost: ', total_cost)"
   ]
  },
  {
   "cell_type": "markdown",
   "metadata": {},
   "source": [
    "# Executive Summary\n",
    "This algorithm acts in a greedy way by assigning a single guard for the maximum time without paying overtime, or eight hours. An eight hour shift is the local optimum because it is straightforward and cheap. If guards are assigned more than eight hours, they must be paid overtime. While it may not be the most precise option, it solves the problem quickly and easily. If the guards could not have the same length shifts or there were additional concerns, this algorithm might not be optimal. However, for this small scale, it suffices quite well."
   ]
  }
 ],
 "metadata": {
  "accelerator": "GPU",
  "colab": {
   "collapsed_sections": [
    "BhUDwni8kn5_",
    "gMfy7Wqakn6M"
   ],
   "machine_shape": "hm",
   "name": "MSDS458_Assignment_01_20210619_DEV_v19_.ipynb",
   "provenance": []
  },
  "kernelspec": {
   "display_name": "Python 3",
   "language": "python",
   "name": "python3"
  },
  "language_info": {
   "codemirror_mode": {
    "name": "ipython",
    "version": 3
   },
   "file_extension": ".py",
   "mimetype": "text/x-python",
   "name": "python",
   "nbconvert_exporter": "python",
   "pygments_lexer": "ipython3",
   "version": "3.6.9"
  },
  "toc": {
   "base_numbering": 1,
   "nav_menu": {},
   "number_sections": false,
   "sideBar": true,
   "skip_h1_title": false,
   "title_cell": "Table of Contents",
   "title_sidebar": "Contents",
   "toc_cell": false,
   "toc_position": {},
   "toc_section_display": true,
   "toc_window_display": false
  }
 },
 "nbformat": 4,
 "nbformat_minor": 1
}
