{
 "cells": [
  {
   "cell_type": "markdown",
   "metadata": {
    "id": "orJYAIqHkn5y"
   },
   "source": [
    "<img src=\"https://github.com/djp840/MSDS_432_Public/blob/main/images/NorthwesternHeader.png?raw=1\">"
   ]
  },
  {
   "cell_type": "markdown",
   "metadata": {},
   "source": [
    "## MSDS432 - Assignment 06 - Implement a Breadth-first Search Algorithm"
   ]
  },
  {
   "cell_type": "code",
   "execution_count": null,
   "metadata": {},
   "outputs": [],
   "source": []
  },
  {
   "cell_type": "markdown",
   "metadata": {},
   "source": [
    "### Import Packages"
   ]
  },
  {
   "cell_type": "code",
   "execution_count": 1,
   "metadata": {},
   "outputs": [],
   "source": [
    "import numpy as np\n",
    "import pandas as pd\n",
    "import matplotlib.pyplot as plt\n",
    "import time\n",
    "from collections import deque\n",
    "%matplotlib inline"
   ]
  },
  {
   "cell_type": "markdown",
   "metadata": {},
   "source": [
    "### Mount Google Drive to Colab Environment"
   ]
  },
  {
   "cell_type": "code",
   "execution_count": 1,
   "metadata": {},
   "outputs": [],
   "source": [
    "#from google.colab import drive\n",
    "#drive.mount('/content/gdrive')"
   ]
  },
  {
   "cell_type": "markdown",
   "metadata": {},
   "source": [
    "### Search Function"
   ]
  },
  {
   "cell_type": "code",
   "execution_count": 2,
   "metadata": {},
   "outputs": [],
   "source": [
    "def search(name, find):\n",
    "    search_queue = deque()\n",
    "    search_queue += graph[name]\n",
    "    # This array is how you keep track of which people you've searched before.\n",
    "    searched = []\n",
    "    while search_queue:\n",
    "        person = search_queue.popleft()\n",
    "        # Only search this person if you haven't already searched them.\n",
    "        if person not in searched:\n",
    "            if person == find:\n",
    "                return True\n",
    "            else:\n",
    "                search_queue += graph[person]\n",
    "                # Marks this person as searched\n",
    "                searched.append(person)\n",
    "    return False"
   ]
  },
  {
   "cell_type": "markdown",
   "metadata": {},
   "source": [
    "### Create Graph with 5 levels and no reverse connections"
   ]
  },
  {
   "cell_type": "code",
   "execution_count": 3,
   "metadata": {},
   "outputs": [],
   "source": [
    "graph = { \"Isaac\" : [\"Steve\",\"John\"],\n",
    "          \"Steve\" : [\"Isaac\", \"Rachel\"],\n",
    "          \"John\" : [\"Isaac\", \"Rachel\"],\n",
    "          \"Rachel\" : [\"Lauren\"],\n",
    "          \"Lauren\" : []\n",
    "         }"
   ]
  },
  {
   "cell_type": "markdown",
   "metadata": {},
   "source": [
    "### Search for 1"
   ]
  },
  {
   "cell_type": "code",
   "execution_count": 4,
   "metadata": {},
   "outputs": [],
   "source": [
    "search1 = []\n",
    "\n",
    "for i in range(1000):\n",
    "    start = time.clock()\n",
    "    search('Isaac', 'Isaac')\n",
    "    end = time.clock()\n",
    "    search1.append((end - start) * 1000)\n",
    "    \n",
    "search1_time = np.mean(search1)"
   ]
  },
  {
   "cell_type": "markdown",
   "metadata": {},
   "source": [
    "### Search for 2"
   ]
  },
  {
   "cell_type": "code",
   "execution_count": 5,
   "metadata": {},
   "outputs": [],
   "source": [
    "search2 = []\n",
    "\n",
    "for i in range(1000):\n",
    "    start = time.clock()\n",
    "    search('Isaac', 'Steve')\n",
    "    search('Isaac', 'John')\n",
    "    end = time.clock()\n",
    "    search2.append((end - start) * 1000)\n",
    "    \n",
    "search2_time = np.mean(search2)"
   ]
  },
  {
   "cell_type": "markdown",
   "metadata": {},
   "source": [
    "### Search for 3"
   ]
  },
  {
   "cell_type": "code",
   "execution_count": 6,
   "metadata": {},
   "outputs": [],
   "source": [
    "search3 = []\n",
    "\n",
    "for i in range(1000):\n",
    "    start = time.clock()\n",
    "    search('Isaac', 'John')\n",
    "    search('Isaac', 'Isaac')\n",
    "    search('Isaac', 'Rachel')\n",
    "    end = time.clock()\n",
    "    search3.append((end - start) * 1000)\n",
    "    \n",
    "search3_time = np.mean(search3)"
   ]
  },
  {
   "cell_type": "markdown",
   "metadata": {},
   "source": [
    "### Search for 4"
   ]
  },
  {
   "cell_type": "code",
   "execution_count": 7,
   "metadata": {},
   "outputs": [],
   "source": [
    "search4 = []\n",
    "\n",
    "for i in range(1000):\n",
    "    start = time.clock()\n",
    "    search('Isaac', 'John')\n",
    "    search('Isaac', 'Isaac')\n",
    "    search('Isaac', 'Rachel')\n",
    "    search('Isaac', 'Lauren')\n",
    "    end = time.clock()\n",
    "    search4.append((end - start) * 1000)\n",
    "    \n",
    "search4_time = np.mean(search4)"
   ]
  },
  {
   "cell_type": "markdown",
   "metadata": {},
   "source": [
    "### Search 5"
   ]
  },
  {
   "cell_type": "code",
   "execution_count": 8,
   "metadata": {},
   "outputs": [],
   "source": [
    "search5 = []\n",
    "\n",
    "for i in range(1000):\n",
    "    start = time.clock()\n",
    "    search('Isaac', 'John')\n",
    "    search('Isaac', 'Isaac')\n",
    "    search('Isaac', 'Rachel')\n",
    "    search('Isaac', 'Lauren')\n",
    "    search('Isaac', 'Steve')\n",
    "    end = time.clock()\n",
    "    search5.append((end - start) * 1000)\n",
    "    \n",
    "search5_time = np.mean(search5)"
   ]
  },
  {
   "cell_type": "markdown",
   "metadata": {},
   "source": [
    "### Create DataFrame with results"
   ]
  },
  {
   "cell_type": "code",
   "execution_count": 9,
   "metadata": {},
   "outputs": [
    {
     "data": {
      "text/html": [
       "<div>\n",
       "<style scoped>\n",
       "    .dataframe tbody tr th:only-of-type {\n",
       "        vertical-align: middle;\n",
       "    }\n",
       "\n",
       "    .dataframe tbody tr th {\n",
       "        vertical-align: top;\n",
       "    }\n",
       "\n",
       "    .dataframe thead th {\n",
       "        text-align: right;\n",
       "    }\n",
       "</style>\n",
       "<table border=\"1\" class=\"dataframe\">\n",
       "  <thead>\n",
       "    <tr style=\"text-align: right;\">\n",
       "      <th></th>\n",
       "      <th>Level</th>\n",
       "      <th>Names Searched</th>\n",
       "      <th>Execution Time</th>\n",
       "    </tr>\n",
       "  </thead>\n",
       "  <tbody>\n",
       "    <tr>\n",
       "      <th>0</th>\n",
       "      <td>First</td>\n",
       "      <td>Isaac</td>\n",
       "      <td>0.008</td>\n",
       "    </tr>\n",
       "    <tr>\n",
       "      <th>1</th>\n",
       "      <td>Second</td>\n",
       "      <td>Steve, John</td>\n",
       "      <td>0.006</td>\n",
       "    </tr>\n",
       "    <tr>\n",
       "      <th>2</th>\n",
       "      <td>Third</td>\n",
       "      <td>John, Isaac, Rachel</td>\n",
       "      <td>0.011</td>\n",
       "    </tr>\n",
       "    <tr>\n",
       "      <th>3</th>\n",
       "      <td>Fourth</td>\n",
       "      <td>John, Isaac, Rachel, Lauren</td>\n",
       "      <td>0.011</td>\n",
       "    </tr>\n",
       "    <tr>\n",
       "      <th>4</th>\n",
       "      <td>Fifth</td>\n",
       "      <td>John, Isaac, Rachel, Lauren, Steve</td>\n",
       "      <td>0.013</td>\n",
       "    </tr>\n",
       "  </tbody>\n",
       "</table>\n",
       "</div>"
      ],
      "text/plain": [
       "    Level                      Names Searched  Execution Time\n",
       "0   First                               Isaac           0.008\n",
       "1  Second                         Steve, John           0.006\n",
       "2   Third                 John, Isaac, Rachel           0.011\n",
       "3  Fourth         John, Isaac, Rachel, Lauren           0.011\n",
       "4   Fifth  John, Isaac, Rachel, Lauren, Steve           0.013"
      ]
     },
     "execution_count": 9,
     "metadata": {},
     "output_type": "execute_result"
    }
   ],
   "source": [
    "names = ['Isaac', 'Steve, John', 'John, Isaac, Rachel', 'John, Isaac, Rachel, Lauren',\n",
    "        'John, Isaac, Rachel, Lauren, Steve']\n",
    "\n",
    "levels = ['First', 'Second', 'Third', 'Fourth', 'Fifth']\n",
    "\n",
    "times = [search1_time, search2_time, search3_time, search4_time, search5_time]\n",
    "df = pd.DataFrame(list(zip(levels, names, times)),\n",
    "              columns=['Level', 'Names Searched', 'Execution Time'])\n",
    "df.round(3)"
   ]
  },
  {
   "cell_type": "markdown",
   "metadata": {},
   "source": [
    "### Plot Execution Times"
   ]
  },
  {
   "cell_type": "code",
   "execution_count": 10,
   "metadata": {},
   "outputs": [
    {
     "data": {
      "image/png": "[encoded data removed]",
      "text/plain": [
       "<Figure size 1152x432 with 1 Axes>"
      ]
     },
     "metadata": {
      "needs_background": "light"
     },
     "output_type": "display_data"
    }
   ],
   "source": [
    "y_pos = np.arange(len(names))\n",
    "plt.figure(figsize=(16, 6))\n",
    "plt.bar(y_pos, times)\n",
    "plt.xticks(y_pos, levels)\n",
    "plt.xlabel('Level')\n",
    "plt.ylabel('Execution Time (In Milliseconds)')\n",
    "plt.show()"
   ]
  },
  {
   "cell_type": "code",
   "execution_count": null,
   "metadata": {},
   "outputs": [],
   "source": []
  }
 ],
 "metadata": {
  "accelerator": "GPU",
  "colab": {
   "collapsed_sections": [
    "BhUDwni8kn5_",
    "gMfy7Wqakn6M"
   ],
   "machine_shape": "hm",
   "name": "MSDS458_Assignment_01_20210619_DEV_v19_.ipynb",
   "provenance": []
  },
  "kernelspec": {
   "display_name": "Python 3",
   "language": "python",
   "name": "python3"
  },
  "language_info": {
   "codemirror_mode": {
    "name": "ipython",
    "version": 3
   },
   "file_extension": ".py",
   "mimetype": "text/x-python",
   "name": "python",
   "nbconvert_exporter": "python",
   "pygments_lexer": "ipython3",
   "version": "3.6.9"
  },
  "toc": {
   "base_numbering": 1,
   "nav_menu": {},
   "number_sections": false,
   "sideBar": true,
   "skip_h1_title": false,
   "title_cell": "Table of Contents",
   "title_sidebar": "Contents",
   "toc_cell": false,
   "toc_position": {},
   "toc_section_display": true,
   "toc_window_display": false
  }
 },
 "nbformat": 4,
 "nbformat_minor": 1
}
