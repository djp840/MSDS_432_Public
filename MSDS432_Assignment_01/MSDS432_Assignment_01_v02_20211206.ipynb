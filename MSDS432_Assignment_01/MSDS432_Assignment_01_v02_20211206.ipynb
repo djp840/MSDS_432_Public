{
 "cells": [
  {
   "cell_type": "markdown",
   "metadata": {
    "id": "orJYAIqHkn5y"
   },
   "source": [
    "<img src=\"https://github.com/djp840/MSDS_432_Public/blob/main/images/NorthwesternHeader.png?raw=1\">"
   ]
  },
  {
   "cell_type": "markdown",
   "metadata": {},
   "source": [
    "## MSDS432 - Assignment 01 - Comparing Search Algorithm Performance"
   ]
  },
  {
   "cell_type": "markdown",
   "metadata": {},
   "source": [
    "### Import Packages"
   ]
  },
  {
   "cell_type": "code",
   "execution_count": null,
   "metadata": {},
   "outputs": [],
   "source": [
    "import random\n",
    "import datetime\n",
    "import time\n",
    "import pandas as pd\n",
    "from matplotlib import pyplot as plt\n",
    "%matplotlib inline\n",
    "SEED = 213"
   ]
  },
  {
   "cell_type": "markdown",
   "metadata": {},
   "source": [
    "### Mount Google Drive to Colab Environment"
   ]
  },
  {
   "cell_type": "code",
   "execution_count": null,
   "metadata": {},
   "outputs": [],
   "source": [
    "#from google.colab import drive\n",
    "#drive.mount('/content/gdrive')"
   ]
  },
  {
   "cell_type": "markdown",
   "metadata": {},
   "source": [
    "### Bhargava's Binary Search"
   ]
  },
  {
   "cell_type": "code",
   "execution_count": null,
   "metadata": {},
   "outputs": [],
   "source": [
    "def binary_search(mylist, item):\n",
    "    start_time = (datetime.datetime.now())\n",
    "    low = 0\n",
    "    high =len(mylist) - 1 \n",
    "    count = 0\n",
    "    while low <= high:\n",
    "        mid = (low + high)\n",
    "        guess = mylist[mid]\n",
    "        if guess == item:\n",
    "            return mid\n",
    "        if guess > item:\n",
    "            high = mid - 1\n",
    "        else:\n",
    "            low = mid + 1\n",
    "        count+=1\n",
    "    return None"
   ]
  },
  {
   "cell_type": "markdown",
   "metadata": {},
   "source": [
    "### Linear Search"
   ]
  },
  {
   "cell_type": "code",
   "execution_count": null,
   "metadata": {},
   "outputs": [],
   "source": [
    "def linear_search(mylist, item):\n",
    "    for i in range(len(mylist)):\n",
    "        if mylist[i]==item:\n",
    "            return i\n",
    "    return None"
   ]
  },
  {
   "cell_type": "markdown",
   "metadata": {},
   "source": [
    "### Generate list of specified length using constant random seed"
   ]
  },
  {
   "cell_type": "code",
   "execution_count": null,
   "metadata": {},
   "outputs": [],
   "source": [
    "def generate_list(length):\n",
    "    returnable_list = []\n",
    "    random.seed(SEED)\n",
    "    for i in range(0, length):\n",
    "        returnable_list.append(random.randint(0, 1000))\n",
    "    return returnable_list"
   ]
  },
  {
   "cell_type": "markdown",
   "metadata": {},
   "source": [
    "### Create Random Lists  \n",
    "multiplied list length by 1000 to return results greater than 0.0000"
   ]
  },
  {
   "cell_type": "code",
   "execution_count": null,
   "metadata": {},
   "outputs": [],
   "source": [
    "random_lists = []\n",
    "random_lists.append(generate_list(512 * 1000))\n",
    "random_lists.append(generate_list(1024 * 1000))\n",
    "random_lists.append(generate_list(2048 * 1000))\n",
    "random_lists.append(generate_list(4096 * 1000))\n",
    "random_lists.append(generate_list(8192 * 1000))"
   ]
  },
  {
   "cell_type": "code",
   "execution_count": null,
   "metadata": {},
   "outputs": [],
   "source": [
    "returnable = []\n",
    "for i in range(0, 100):\n",
    "    returnable.append(random.randint(0,1000))"
   ]
  },
  {
   "cell_type": "markdown",
   "metadata": {},
   "source": [
    "### Arrays to store sort time, linear search time, and binary search time"
   ]
  },
  {
   "cell_type": "code",
   "execution_count": null,
   "metadata": {},
   "outputs": [],
   "source": [
    "sort_times = []\n",
    "linear_times = []\n",
    "binary_times = []\n",
    "\n",
    "for list_item in random_lists:\n",
    "    start_time = (datetime.datetime.now())\n",
    "    list_item.sort()\n",
    "    sort_times.append((datetime.datetime.now() - start_time).\n",
    "                      total_seconds() * 1000)\n",
    "    \n",
    "    linear_start = datetime.datetime.now()\n",
    "    linear_search(list_item, list_item[-1])\n",
    "    linear_times.append((datetime.datetime.now() - linear_start).\n",
    "                      total_seconds() * 1000)\n",
    "    \n",
    "    binary_start = datetime.datetime.now()\n",
    "    binary_search(list_item, list_item[-1])\n",
    "    binary_times.append((datetime.datetime.now() - binary_start)\n",
    "                        .total_seconds() * 1000)"
   ]
  },
  {
   "cell_type": "code",
   "execution_count": null,
   "metadata": {},
   "outputs": [],
   "source": [
    "array_length = []\n",
    "for l in range(len(random_lists)):\n",
    "    array_length.append(len(random_lists[l]))"
   ]
  },
  {
   "cell_type": "markdown",
   "metadata": {},
   "source": [
    "### Define dataframe with array length, sort time, linear search, and binary search"
   ]
  },
  {
   "cell_type": "code",
   "execution_count": null,
   "metadata": {},
   "outputs": [],
   "source": [
    "time_df = {'array length':array_length,\n",
    "          'sort time': sort_times,\n",
    "          'linear search': linear_times,\n",
    "          'binary search': binary_times}\n",
    "time_df = pd.DataFrame(data=time_df)"
   ]
  },
  {
   "cell_type": "markdown",
   "metadata": {},
   "source": [
    "### Calculate combined search and sort execution times, and add to dataframe"
   ]
  },
  {
   "cell_type": "code",
   "execution_count": null,
   "metadata": {},
   "outputs": [],
   "source": [
    "time_df['total linear'] = time_df['sort time'] + time_df['linear search']\n",
    "time_df['total binary'] = time_df['sort time'] + time_df['binary search']\n",
    "time_df"
   ]
  },
  {
   "cell_type": "markdown",
   "metadata": {},
   "source": [
    "### Plot results without sort time"
   ]
  },
  {
   "cell_type": "code",
   "execution_count": null,
   "metadata": {},
   "outputs": [],
   "source": [
    "plt.figure(figsize=(16, 6))\n",
    "plt.scatter(time_df['array length'], [time_df['linear search']])\n",
    "plt.scatter(time_df['array length'], [time_df['binary search']])\n",
    "plt.legend(('linear search', 'binary search'))\n",
    "plt.xticks(time_df['array length'], rotation=-45)\n",
    "plt.ylabel('Execution time (ms)')\n",
    "plt.xlabel('List length')\n",
    "plt.title('Fig 1: Execution Time by Search Type')"
   ]
  },
  {
   "cell_type": "markdown",
   "metadata": {},
   "source": [
    "### Plot results with sort time"
   ]
  },
  {
   "cell_type": "code",
   "execution_count": null,
   "metadata": {},
   "outputs": [],
   "source": [
    "plt.figure(figsize=(16, 6))\n",
    "plt.scatter(time_df['array length'], [time_df['total linear']])\n",
    "plt.scatter(time_df['array length'], [time_df['total binary']])\n",
    "plt.legend(('sort + linear search',\n",
    "            'sort + binary search'))\n",
    "plt.xticks(time_df['array length'], rotation=-45)\n",
    "plt.ylabel('Execution time (ms)')\n",
    "plt.xlabel('List length')\n",
    "plt.title('Fig 2: Execution Time by Search Type (Sort Time Included)')"
   ]
  },
  {
   "cell_type": "code",
   "execution_count": null,
   "metadata": {},
   "outputs": [],
   "source": []
  }
 ],
 "metadata": {
  "accelerator": "GPU",
  "colab": {
   "collapsed_sections": [
    "BhUDwni8kn5_",
    "gMfy7Wqakn6M"
   ],
   "machine_shape": "hm",
   "name": "MSDS458_Assignment_01_20210619_DEV_v19_.ipynb",
   "provenance": []
  },
  "kernelspec": {
   "display_name": "Python 3",
   "language": "python",
   "name": "python3"
  },
  "language_info": {
   "codemirror_mode": {
    "name": "ipython",
    "version": 3
   },
   "file_extension": ".py",
   "mimetype": "text/x-python",
   "name": "python",
   "nbconvert_exporter": "python",
   "pygments_lexer": "ipython3",
   "version": "3.6.9"
  },
  "toc": {
   "base_numbering": 1,
   "nav_menu": {},
   "number_sections": false,
   "sideBar": true,
   "skip_h1_title": false,
   "title_cell": "Table of Contents",
   "title_sidebar": "Contents",
   "toc_cell": false,
   "toc_position": {},
   "toc_section_display": true,
   "toc_window_display": false
  }
 },
 "nbformat": 4,
 "nbformat_minor": 1
}
