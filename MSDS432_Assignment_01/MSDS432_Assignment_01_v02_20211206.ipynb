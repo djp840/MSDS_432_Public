{
 "cells": [
  {
   "cell_type": "markdown",
   "metadata": {
    "id": "orJYAIqHkn5y"
   },
   "source": [
    "<img src=\"https://github.com/djp840/MSDS_432_Public/blob/main/images/NorthwesternHeader.png?raw=1\">"
   ]
  },
  {
   "cell_type": "markdown",
   "metadata": {},
   "source": [
    "## MSDS432 - Assignment 01 - Comparing Search Algorithm Performance"
   ]
  },
  {
   "cell_type": "markdown",
   "metadata": {},
   "source": [
    "### Import Packages"
   ]
  },
  {
   "cell_type": "code",
   "execution_count": 1,
   "metadata": {},
   "outputs": [],
   "source": [
    "import random\n",
    "import datetime\n",
    "import time\n",
    "import pandas as pd\n",
    "from matplotlib import pyplot as plt\n",
    "%matplotlib inline\n",
    "SEED = 213"
   ]
  },
  {
   "cell_type": "markdown",
   "metadata": {},
   "source": [
    "### Mount Google Drive to Colab Environment"
   ]
  },
  {
   "cell_type": "code",
   "execution_count": 2,
   "metadata": {},
   "outputs": [],
   "source": [
    "#from google.colab import drive\n",
    "#drive.mount('/content/gdrive')"
   ]
  },
  {
   "cell_type": "markdown",
   "metadata": {},
   "source": [
    "### Bhargava's Binary Search"
   ]
  },
  {
   "cell_type": "code",
   "execution_count": 3,
   "metadata": {},
   "outputs": [],
   "source": [
    "def binary_search(mylist, item):\n",
    "    start_time = (datetime.datetime.now())\n",
    "    low = 0\n",
    "    high =len(mylist) - 1 \n",
    "    count = 0\n",
    "    while low <= high:\n",
    "        mid = (low + high)\n",
    "        guess = mylist[mid]\n",
    "        if guess == item:\n",
    "            return mid\n",
    "        if guess > item:\n",
    "            high = mid - 1\n",
    "        else:\n",
    "            low = mid + 1\n",
    "        count+=1\n",
    "    return None"
   ]
  },
  {
   "cell_type": "markdown",
   "metadata": {},
   "source": [
    "### Linear Search"
   ]
  },
  {
   "cell_type": "code",
   "execution_count": 4,
   "metadata": {},
   "outputs": [],
   "source": [
    "def linear_search(mylist, item):\n",
    "    for i in range(len(mylist)):\n",
    "        if mylist[i]==item:\n",
    "            return i\n",
    "    return None"
   ]
  },
  {
   "cell_type": "markdown",
   "metadata": {},
   "source": [
    "### Generate list of specified length using constant random seed"
   ]
  },
  {
   "cell_type": "code",
   "execution_count": 5,
   "metadata": {},
   "outputs": [],
   "source": [
    "def generate_list(length):\n",
    "    returnable_list = []\n",
    "    random.seed(SEED)\n",
    "    for i in range(0, length):\n",
    "        returnable_list.append(random.randint(0, 1000))\n",
    "    return returnable_list"
   ]
  },
  {
   "cell_type": "markdown",
   "metadata": {},
   "source": [
    "### Create Random Lists  \n",
    "multiplied list length by 1000 to return results greater than 0.0000"
   ]
  },
  {
   "cell_type": "code",
   "execution_count": 6,
   "metadata": {},
   "outputs": [],
   "source": [
    "random_lists = []\n",
    "random_lists.append(generate_list(512 * 1000))\n",
    "random_lists.append(generate_list(1024 * 1000))\n",
    "random_lists.append(generate_list(2048 * 1000))\n",
    "random_lists.append(generate_list(4096 * 1000))\n",
    "random_lists.append(generate_list(8192 * 1000))"
   ]
  },
  {
   "cell_type": "code",
   "execution_count": 7,
   "metadata": {},
   "outputs": [],
   "source": [
    "returnable = []\n",
    "for i in range(0, 100):\n",
    "    returnable.append(random.randint(0,1000))"
   ]
  },
  {
   "cell_type": "markdown",
   "metadata": {},
   "source": [
    "### Arrays to store sort time, linear search time, and binary search time"
   ]
  },
  {
   "cell_type": "code",
   "execution_count": 8,
   "metadata": {},
   "outputs": [],
   "source": [
    "sort_times = []\n",
    "linear_times = []\n",
    "binary_times = []\n",
    "\n",
    "for list_item in random_lists:\n",
    "    start_time = (datetime.datetime.now())\n",
    "    list_item.sort()\n",
    "    sort_times.append((datetime.datetime.now() - start_time).\n",
    "                      total_seconds() * 1000)\n",
    "    \n",
    "    linear_start = datetime.datetime.now()\n",
    "    linear_search(list_item, list_item[-1])\n",
    "    linear_times.append((datetime.datetime.now() - linear_start).\n",
    "                      total_seconds() * 1000)\n",
    "    \n",
    "    binary_start = datetime.datetime.now()\n",
    "    binary_search(list_item, list_item[-1])\n",
    "    binary_times.append((datetime.datetime.now() - binary_start)\n",
    "                        .total_seconds() * 1000)"
   ]
  },
  {
   "cell_type": "code",
   "execution_count": 9,
   "metadata": {},
   "outputs": [],
   "source": [
    "array_length = []\n",
    "for l in range(len(random_lists)):\n",
    "    array_length.append(len(random_lists[l]))"
   ]
  },
  {
   "cell_type": "markdown",
   "metadata": {},
   "source": [
    "### Define dataframe with array length, sort time, linear search, and binary search"
   ]
  },
  {
   "cell_type": "code",
   "execution_count": 10,
   "metadata": {},
   "outputs": [],
   "source": [
    "time_df = {'array length':array_length,\n",
    "          'sort time': sort_times,\n",
    "          'linear search': linear_times,\n",
    "          'binary search': binary_times}\n",
    "time_df = pd.DataFrame(data=time_df)"
   ]
  },
  {
   "cell_type": "markdown",
   "metadata": {},
   "source": [
    "### Calculate combined search and sort execution times, and add to dataframe"
   ]
  },
  {
   "cell_type": "code",
   "execution_count": 11,
   "metadata": {},
   "outputs": [
    {
     "data": {
      "text/html": [
       "<div>\n",
       "<style scoped>\n",
       "    .dataframe tbody tr th:only-of-type {\n",
       "        vertical-align: middle;\n",
       "    }\n",
       "\n",
       "    .dataframe tbody tr th {\n",
       "        vertical-align: top;\n",
       "    }\n",
       "\n",
       "    .dataframe thead th {\n",
       "        text-align: right;\n",
       "    }\n",
       "</style>\n",
       "<table border=\"1\" class=\"dataframe\">\n",
       "  <thead>\n",
       "    <tr style=\"text-align: right;\">\n",
       "      <th></th>\n",
       "      <th>array length</th>\n",
       "      <th>sort time</th>\n",
       "      <th>linear search</th>\n",
       "      <th>binary search</th>\n",
       "      <th>total linear</th>\n",
       "      <th>total binary</th>\n",
       "    </tr>\n",
       "  </thead>\n",
       "  <tbody>\n",
       "    <tr>\n",
       "      <th>0</th>\n",
       "      <td>512000</td>\n",
       "      <td>147.681</td>\n",
       "      <td>54.721</td>\n",
       "      <td>0.007</td>\n",
       "      <td>202.402</td>\n",
       "      <td>147.688</td>\n",
       "    </tr>\n",
       "    <tr>\n",
       "      <th>1</th>\n",
       "      <td>1024000</td>\n",
       "      <td>274.231</td>\n",
       "      <td>118.686</td>\n",
       "      <td>0.006</td>\n",
       "      <td>392.917</td>\n",
       "      <td>274.237</td>\n",
       "    </tr>\n",
       "    <tr>\n",
       "      <th>2</th>\n",
       "      <td>2048000</td>\n",
       "      <td>556.001</td>\n",
       "      <td>228.543</td>\n",
       "      <td>0.007</td>\n",
       "      <td>784.544</td>\n",
       "      <td>556.008</td>\n",
       "    </tr>\n",
       "    <tr>\n",
       "      <th>3</th>\n",
       "      <td>4096000</td>\n",
       "      <td>1112.201</td>\n",
       "      <td>458.268</td>\n",
       "      <td>0.007</td>\n",
       "      <td>1570.469</td>\n",
       "      <td>1112.208</td>\n",
       "    </tr>\n",
       "    <tr>\n",
       "      <th>4</th>\n",
       "      <td>8192000</td>\n",
       "      <td>2249.072</td>\n",
       "      <td>937.074</td>\n",
       "      <td>0.006</td>\n",
       "      <td>3186.146</td>\n",
       "      <td>2249.078</td>\n",
       "    </tr>\n",
       "  </tbody>\n",
       "</table>\n",
       "</div>"
      ],
      "text/plain": [
       "   array length  sort time  linear search  binary search  total linear  \\\n",
       "0        512000    147.681         54.721          0.007       202.402   \n",
       "1       1024000    274.231        118.686          0.006       392.917   \n",
       "2       2048000    556.001        228.543          0.007       784.544   \n",
       "3       4096000   1112.201        458.268          0.007      1570.469   \n",
       "4       8192000   2249.072        937.074          0.006      3186.146   \n",
       "\n",
       "   total binary  \n",
       "0       147.688  \n",
       "1       274.237  \n",
       "2       556.008  \n",
       "3      1112.208  \n",
       "4      2249.078  "
      ]
     },
     "execution_count": 11,
     "metadata": {},
     "output_type": "execute_result"
    }
   ],
   "source": [
    "time_df['total linear'] = time_df['sort time'] + time_df['linear search']\n",
    "time_df['total binary'] = time_df['sort time'] + time_df['binary search']\n",
    "time_df"
   ]
  },
  {
   "cell_type": "markdown",
   "metadata": {},
   "source": [
    "### Plot results without sort time"
   ]
  },
  {
   "cell_type": "code",
   "execution_count": 12,
   "metadata": {},
   "outputs": [
    {
     "data": {
      "text/plain": [
       "Text(0.5, 1.0, 'Fig 1: Execution Time by Search Type')"
      ]
     },
     "execution_count": 12,
     "metadata": {},
     "output_type": "execute_result"
    },
    {
     "data": {
      "image/png": "[encoded data removed]",
      "text/plain": [
       "<Figure size 1152x432 with 1 Axes>"
      ]
     },
     "metadata": {
      "needs_background": "light"
     },
     "output_type": "display_data"
    }
   ],
   "source": [
    "plt.figure(figsize=(16, 6))\n",
    "plt.scatter(time_df['array length'], [time_df['linear search']])\n",
    "plt.scatter(time_df['array length'], [time_df['binary search']])\n",
    "plt.legend(('linear search', 'binary search'))\n",
    "plt.xticks(time_df['array length'], rotation=-45)\n",
    "plt.ylabel('Execution time (ms)')\n",
    "plt.xlabel('List length')\n",
    "plt.title('Fig 1: Execution Time by Search Type')"
   ]
  },
  {
   "cell_type": "markdown",
   "metadata": {},
   "source": [
    "### Plot results with sort time"
   ]
  },
  {
   "cell_type": "code",
   "execution_count": 13,
   "metadata": {},
   "outputs": [
    {
     "data": {
      "text/plain": [
       "Text(0.5, 1.0, 'Fig 2: Execution Time by Search Type (Sort Time Included)')"
      ]
     },
     "execution_count": 13,
     "metadata": {},
     "output_type": "execute_result"
    },
    {
     "data": {
      "image/png": "[encoded data removed]",
      "text/plain": [
       "<Figure size 1152x432 with 1 Axes>"
      ]
     },
     "metadata": {
      "needs_background": "light"
     },
     "output_type": "display_data"
    }
   ],
   "source": [
    "plt.figure(figsize=(16, 6))\n",
    "plt.scatter(time_df['array length'], [time_df['total linear']])\n",
    "plt.scatter(time_df['array length'], [time_df['total binary']])\n",
    "plt.legend(('sort + linear search',\n",
    "            'sort + binary search'))\n",
    "plt.xticks(time_df['array length'], rotation=-45)\n",
    "plt.ylabel('Execution time (ms)')\n",
    "plt.xlabel('List length')\n",
    "plt.title('Fig 2: Execution Time by Search Type (Sort Time Included)')"
   ]
  },
  {
   "cell_type": "code",
   "execution_count": null,
   "metadata": {},
   "outputs": [],
   "source": []
  }
 ],
 "metadata": {
  "accelerator": "GPU",
  "colab": {
   "collapsed_sections": [
    "BhUDwni8kn5_",
    "gMfy7Wqakn6M"
   ],
   "machine_shape": "hm",
   "name": "MSDS458_Assignment_01_20210619_DEV_v19_.ipynb",
   "provenance": []
  },
  "kernelspec": {
   "display_name": "Python 3",
   "language": "python",
   "name": "python3"
  },
  "language_info": {
   "codemirror_mode": {
    "name": "ipython",
    "version": 3
   },
   "file_extension": ".py",
   "mimetype": "text/x-python",
   "name": "python",
   "nbconvert_exporter": "python",
   "pygments_lexer": "ipython3",
   "version": "3.6.9"
  },
  "toc": {
   "base_numbering": 1,
   "nav_menu": {},
   "number_sections": false,
   "sideBar": true,
   "skip_h1_title": false,
   "title_cell": "Table of Contents",
   "title_sidebar": "Contents",
   "toc_cell": false,
   "toc_position": {},
   "toc_section_display": true,
   "toc_window_display": false
  }
 },
 "nbformat": 4,
 "nbformat_minor": 1
}
